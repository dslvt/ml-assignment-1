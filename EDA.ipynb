{
 "cells": [
  {
   "cell_type": "code",
   "execution_count": 68,
   "metadata": {},
   "outputs": [],
   "source": [
    "import pandas as pd\n",
    "from pandas_profiling import ProfileReport"
   ]
  },
  {
   "cell_type": "code",
   "execution_count": 69,
   "metadata": {},
   "outputs": [],
   "source": [
    "RANDOM_SEED = 42"
   ]
  },
  {
   "cell_type": "code",
   "execution_count": 70,
   "metadata": {},
   "outputs": [],
   "source": [
    "bitrate_train = pd.read_csv('Documents/uni/Machine Learning/assignment 1/bitrate_prediction/bitrate_train.csv')\n",
    "stream_quality_train = pd.read_csv('Documents/uni/Machine Learning/assignment 1/stream_quality_data/train_data.csv')"
   ]
  },
  {
   "cell_type": "code",
   "execution_count": 71,
   "metadata": {},
   "outputs": [
    {
     "data": {
      "text/html": [
       "<div>\n",
       "<style scoped>\n",
       "    .dataframe tbody tr th:only-of-type {\n",
       "        vertical-align: middle;\n",
       "    }\n",
       "\n",
       "    .dataframe tbody tr th {\n",
       "        vertical-align: top;\n",
       "    }\n",
       "\n",
       "    .dataframe thead th {\n",
       "        text-align: right;\n",
       "    }\n",
       "</style>\n",
       "<table border=\"1\" class=\"dataframe\">\n",
       "  <thead>\n",
       "    <tr style=\"text-align: right;\">\n",
       "      <th></th>\n",
       "      <th>fps_mean</th>\n",
       "      <th>fps_std</th>\n",
       "      <th>rtt_mean</th>\n",
       "      <th>rtt_std</th>\n",
       "      <th>dropped_frames_mean</th>\n",
       "      <th>dropped_frames_std</th>\n",
       "      <th>dropped_frames_max</th>\n",
       "      <th>bitrate_mean</th>\n",
       "      <th>bitrate_std</th>\n",
       "      <th>target</th>\n",
       "    </tr>\n",
       "  </thead>\n",
       "  <tbody>\n",
       "    <tr>\n",
       "      <th>0</th>\n",
       "      <td>24.4</td>\n",
       "      <td>0.516398</td>\n",
       "      <td>91.1</td>\n",
       "      <td>6.723921</td>\n",
       "      <td>0.0</td>\n",
       "      <td>0.0</td>\n",
       "      <td>0.0</td>\n",
       "      <td>460.5</td>\n",
       "      <td>7.648529</td>\n",
       "      <td>616.0</td>\n",
       "    </tr>\n",
       "    <tr>\n",
       "      <th>1</th>\n",
       "      <td>28.6</td>\n",
       "      <td>2.065591</td>\n",
       "      <td>99.7</td>\n",
       "      <td>15.923777</td>\n",
       "      <td>0.0</td>\n",
       "      <td>0.0</td>\n",
       "      <td>0.0</td>\n",
       "      <td>616.3</td>\n",
       "      <td>155.414893</td>\n",
       "      <td>565.0</td>\n",
       "    </tr>\n",
       "    <tr>\n",
       "      <th>2</th>\n",
       "      <td>30.0</td>\n",
       "      <td>0.000000</td>\n",
       "      <td>98.1</td>\n",
       "      <td>11.798776</td>\n",
       "      <td>0.0</td>\n",
       "      <td>0.0</td>\n",
       "      <td>0.0</td>\n",
       "      <td>565.2</td>\n",
       "      <td>9.077445</td>\n",
       "      <td>573.0</td>\n",
       "    </tr>\n",
       "    <tr>\n",
       "      <th>3</th>\n",
       "      <td>30.3</td>\n",
       "      <td>0.948683</td>\n",
       "      <td>99.4</td>\n",
       "      <td>13.014522</td>\n",
       "      <td>0.0</td>\n",
       "      <td>0.0</td>\n",
       "      <td>0.0</td>\n",
       "      <td>573.8</td>\n",
       "      <td>28.350191</td>\n",
       "      <td>585.0</td>\n",
       "    </tr>\n",
       "    <tr>\n",
       "      <th>4</th>\n",
       "      <td>29.9</td>\n",
       "      <td>0.316228</td>\n",
       "      <td>123.2</td>\n",
       "      <td>62.476307</td>\n",
       "      <td>0.0</td>\n",
       "      <td>0.0</td>\n",
       "      <td>0.0</td>\n",
       "      <td>585.8</td>\n",
       "      <td>59.458295</td>\n",
       "      <td>555.0</td>\n",
       "    </tr>\n",
       "    <tr>\n",
       "      <th>...</th>\n",
       "      <td>...</td>\n",
       "      <td>...</td>\n",
       "      <td>...</td>\n",
       "      <td>...</td>\n",
       "      <td>...</td>\n",
       "      <td>...</td>\n",
       "      <td>...</td>\n",
       "      <td>...</td>\n",
       "      <td>...</td>\n",
       "      <td>...</td>\n",
       "    </tr>\n",
       "    <tr>\n",
       "      <th>379016</th>\n",
       "      <td>40.0</td>\n",
       "      <td>0.000000</td>\n",
       "      <td>0.0</td>\n",
       "      <td>0.000000</td>\n",
       "      <td>0.0</td>\n",
       "      <td>0.0</td>\n",
       "      <td>0.0</td>\n",
       "      <td>3324.9</td>\n",
       "      <td>52.846633</td>\n",
       "      <td>3325.0</td>\n",
       "    </tr>\n",
       "    <tr>\n",
       "      <th>379017</th>\n",
       "      <td>40.0</td>\n",
       "      <td>0.000000</td>\n",
       "      <td>0.0</td>\n",
       "      <td>0.000000</td>\n",
       "      <td>0.0</td>\n",
       "      <td>0.0</td>\n",
       "      <td>0.0</td>\n",
       "      <td>3325.3</td>\n",
       "      <td>66.015234</td>\n",
       "      <td>3293.0</td>\n",
       "    </tr>\n",
       "    <tr>\n",
       "      <th>379018</th>\n",
       "      <td>40.0</td>\n",
       "      <td>0.000000</td>\n",
       "      <td>0.0</td>\n",
       "      <td>0.000000</td>\n",
       "      <td>0.0</td>\n",
       "      <td>0.0</td>\n",
       "      <td>0.0</td>\n",
       "      <td>3293.2</td>\n",
       "      <td>43.355892</td>\n",
       "      <td>3317.0</td>\n",
       "    </tr>\n",
       "    <tr>\n",
       "      <th>379019</th>\n",
       "      <td>40.0</td>\n",
       "      <td>0.000000</td>\n",
       "      <td>0.0</td>\n",
       "      <td>0.000000</td>\n",
       "      <td>0.0</td>\n",
       "      <td>0.0</td>\n",
       "      <td>0.0</td>\n",
       "      <td>3317.0</td>\n",
       "      <td>40.033319</td>\n",
       "      <td>3283.0</td>\n",
       "    </tr>\n",
       "    <tr>\n",
       "      <th>379020</th>\n",
       "      <td>40.0</td>\n",
       "      <td>0.000000</td>\n",
       "      <td>0.0</td>\n",
       "      <td>0.000000</td>\n",
       "      <td>0.0</td>\n",
       "      <td>0.0</td>\n",
       "      <td>0.0</td>\n",
       "      <td>3283.2</td>\n",
       "      <td>40.575855</td>\n",
       "      <td>3314.0</td>\n",
       "    </tr>\n",
       "  </tbody>\n",
       "</table>\n",
       "<p>379021 rows × 10 columns</p>\n",
       "</div>"
      ],
      "text/plain": [
       "        fps_mean   fps_std  rtt_mean    rtt_std  dropped_frames_mean  \\\n",
       "0           24.4  0.516398      91.1   6.723921                  0.0   \n",
       "1           28.6  2.065591      99.7  15.923777                  0.0   \n",
       "2           30.0  0.000000      98.1  11.798776                  0.0   \n",
       "3           30.3  0.948683      99.4  13.014522                  0.0   \n",
       "4           29.9  0.316228     123.2  62.476307                  0.0   \n",
       "...          ...       ...       ...        ...                  ...   \n",
       "379016      40.0  0.000000       0.0   0.000000                  0.0   \n",
       "379017      40.0  0.000000       0.0   0.000000                  0.0   \n",
       "379018      40.0  0.000000       0.0   0.000000                  0.0   \n",
       "379019      40.0  0.000000       0.0   0.000000                  0.0   \n",
       "379020      40.0  0.000000       0.0   0.000000                  0.0   \n",
       "\n",
       "        dropped_frames_std  dropped_frames_max  bitrate_mean  bitrate_std  \\\n",
       "0                      0.0                 0.0         460.5     7.648529   \n",
       "1                      0.0                 0.0         616.3   155.414893   \n",
       "2                      0.0                 0.0         565.2     9.077445   \n",
       "3                      0.0                 0.0         573.8    28.350191   \n",
       "4                      0.0                 0.0         585.8    59.458295   \n",
       "...                    ...                 ...           ...          ...   \n",
       "379016                 0.0                 0.0        3324.9    52.846633   \n",
       "379017                 0.0                 0.0        3325.3    66.015234   \n",
       "379018                 0.0                 0.0        3293.2    43.355892   \n",
       "379019                 0.0                 0.0        3317.0    40.033319   \n",
       "379020                 0.0                 0.0        3283.2    40.575855   \n",
       "\n",
       "        target  \n",
       "0        616.0  \n",
       "1        565.0  \n",
       "2        573.0  \n",
       "3        585.0  \n",
       "4        555.0  \n",
       "...        ...  \n",
       "379016  3325.0  \n",
       "379017  3293.0  \n",
       "379018  3317.0  \n",
       "379019  3283.0  \n",
       "379020  3314.0  \n",
       "\n",
       "[379021 rows x 10 columns]"
      ]
     },
     "execution_count": 71,
     "metadata": {},
     "output_type": "execute_result"
    }
   ],
   "source": [
    "bitrate_train"
   ]
  },
  {
   "cell_type": "code",
   "execution_count": 4,
   "metadata": {},
   "outputs": [
    {
     "name": "stderr",
     "output_type": "stream",
     "text": [
      "Summarize dataset:  62%|████████████████████████████████████████████████████████▎                                  | 13/21 [00:00<00:00, 29.90it/s, Calculate kendall correlation]/opt/homebrew/Caskroom/miniforge/base/envs/ds/lib/python3.10/site-packages/scipy/stats/_stats_py.py:5215: RuntimeWarning: overflow encountered in long_scalars\n",
      "  (2 * xtie * ytie) / m + x0 * y0 / (9 * m * (size - 2)))\n",
      "Summarize dataset: 100%|█████████████████████████████████████████████████████████████████████████████████████████████████████████████| 123/123 [00:16<00:00,  7.65it/s, Completed]\n",
      "Generate report structure: 100%|████████████████████████████████████████████████████████████████████████████████████████████████████████████████████| 1/1 [00:01<00:00,  1.38s/it]\n",
      "Render HTML: 100%|██████████████████████████████████████████████████████████████████████████████████████████████████████████████████████████████████| 1/1 [00:01<00:00,  1.27s/it]\n",
      "Export report to file: 100%|███████████████████████████████████████████████████████████████████████████████████████████████████████████████████████| 1/1 [00:00<00:00, 271.00it/s]\n"
     ]
    }
   ],
   "source": [
    "bitrate_profile = ProfileReport(bitrate_train, title=\"bitrate data\")\n",
    "bitrate_profile.to_file('bitrate_profile.html')"
   ]
  },
  {
   "cell_type": "code",
   "execution_count": 5,
   "metadata": {},
   "outputs": [
    {
     "name": "stderr",
     "output_type": "stream",
     "text": [
      "Summarize dataset:  65%|███████████████████████████████████████████████████████████▎                               | 15/23 [00:02<00:00,  8.81it/s, Calculate kendall correlation]/opt/homebrew/Caskroom/miniforge/base/envs/ds/lib/python3.10/site-packages/scipy/stats/_stats_py.py:5215: RuntimeWarning: overflow encountered in long_scalars\n",
      "  (2 * xtie * ytie) / m + x0 * y0 / (9 * m * (size - 2)))\n",
      "Summarize dataset: 100%|█████████████████████████████████████████████████████████████████████████████████████████████████████████████| 106/106 [00:14<00:00,  7.37it/s, Completed]\n",
      "Generate report structure: 100%|████████████████████████████████████████████████████████████████████████████████████████████████████████████████████| 1/1 [00:01<00:00,  1.58s/it]\n",
      "Render HTML: 100%|██████████████████████████████████████████████████████████████████████████████████████████████████████████████████████████████████| 1/1 [00:01<00:00,  1.03s/it]\n",
      "Export report to file: 100%|████████████████████████████████████████████████████████████████████████████████████████████████████████████████████████| 1/1 [00:00<00:00, 74.73it/s]\n"
     ]
    }
   ],
   "source": [
    "stream_quality_profile = ProfileReport(stream_quality_train, title=\"stream quality data\")\n",
    "stream_quality_profile.to_file('stream_quality_profile.html')"
   ]
  },
  {
   "cell_type": "markdown",
   "metadata": {},
   "source": [
    "## Regression"
   ]
  },
  {
   "cell_type": "code",
   "execution_count": 6,
   "metadata": {},
   "outputs": [
    {
     "data": {
      "text/html": [
       "<div>\n",
       "<style scoped>\n",
       "    .dataframe tbody tr th:only-of-type {\n",
       "        vertical-align: middle;\n",
       "    }\n",
       "\n",
       "    .dataframe tbody tr th {\n",
       "        vertical-align: top;\n",
       "    }\n",
       "\n",
       "    .dataframe thead th {\n",
       "        text-align: right;\n",
       "    }\n",
       "</style>\n",
       "<table border=\"1\" class=\"dataframe\">\n",
       "  <thead>\n",
       "    <tr style=\"text-align: right;\">\n",
       "      <th></th>\n",
       "      <th>fps_mean</th>\n",
       "      <th>fps_std</th>\n",
       "      <th>rtt_mean</th>\n",
       "      <th>rtt_std</th>\n",
       "      <th>dropped_frames_mean</th>\n",
       "      <th>dropped_frames_std</th>\n",
       "      <th>dropped_frames_max</th>\n",
       "      <th>bitrate_mean</th>\n",
       "      <th>bitrate_std</th>\n",
       "      <th>target</th>\n",
       "    </tr>\n",
       "  </thead>\n",
       "  <tbody>\n",
       "    <tr>\n",
       "      <th>0</th>\n",
       "      <td>24.4</td>\n",
       "      <td>0.516398</td>\n",
       "      <td>91.1</td>\n",
       "      <td>6.723921</td>\n",
       "      <td>0.0</td>\n",
       "      <td>0.0</td>\n",
       "      <td>0.0</td>\n",
       "      <td>460.5</td>\n",
       "      <td>7.648529</td>\n",
       "      <td>616.0</td>\n",
       "    </tr>\n",
       "    <tr>\n",
       "      <th>1</th>\n",
       "      <td>28.6</td>\n",
       "      <td>2.065591</td>\n",
       "      <td>99.7</td>\n",
       "      <td>15.923777</td>\n",
       "      <td>0.0</td>\n",
       "      <td>0.0</td>\n",
       "      <td>0.0</td>\n",
       "      <td>616.3</td>\n",
       "      <td>155.414893</td>\n",
       "      <td>565.0</td>\n",
       "    </tr>\n",
       "    <tr>\n",
       "      <th>2</th>\n",
       "      <td>30.0</td>\n",
       "      <td>0.000000</td>\n",
       "      <td>98.1</td>\n",
       "      <td>11.798776</td>\n",
       "      <td>0.0</td>\n",
       "      <td>0.0</td>\n",
       "      <td>0.0</td>\n",
       "      <td>565.2</td>\n",
       "      <td>9.077445</td>\n",
       "      <td>573.0</td>\n",
       "    </tr>\n",
       "    <tr>\n",
       "      <th>3</th>\n",
       "      <td>30.3</td>\n",
       "      <td>0.948683</td>\n",
       "      <td>99.4</td>\n",
       "      <td>13.014522</td>\n",
       "      <td>0.0</td>\n",
       "      <td>0.0</td>\n",
       "      <td>0.0</td>\n",
       "      <td>573.8</td>\n",
       "      <td>28.350191</td>\n",
       "      <td>585.0</td>\n",
       "    </tr>\n",
       "    <tr>\n",
       "      <th>4</th>\n",
       "      <td>29.9</td>\n",
       "      <td>0.316228</td>\n",
       "      <td>123.2</td>\n",
       "      <td>62.476307</td>\n",
       "      <td>0.0</td>\n",
       "      <td>0.0</td>\n",
       "      <td>0.0</td>\n",
       "      <td>585.8</td>\n",
       "      <td>59.458295</td>\n",
       "      <td>555.0</td>\n",
       "    </tr>\n",
       "    <tr>\n",
       "      <th>...</th>\n",
       "      <td>...</td>\n",
       "      <td>...</td>\n",
       "      <td>...</td>\n",
       "      <td>...</td>\n",
       "      <td>...</td>\n",
       "      <td>...</td>\n",
       "      <td>...</td>\n",
       "      <td>...</td>\n",
       "      <td>...</td>\n",
       "      <td>...</td>\n",
       "    </tr>\n",
       "    <tr>\n",
       "      <th>379016</th>\n",
       "      <td>40.0</td>\n",
       "      <td>0.000000</td>\n",
       "      <td>0.0</td>\n",
       "      <td>0.000000</td>\n",
       "      <td>0.0</td>\n",
       "      <td>0.0</td>\n",
       "      <td>0.0</td>\n",
       "      <td>3324.9</td>\n",
       "      <td>52.846633</td>\n",
       "      <td>3325.0</td>\n",
       "    </tr>\n",
       "    <tr>\n",
       "      <th>379017</th>\n",
       "      <td>40.0</td>\n",
       "      <td>0.000000</td>\n",
       "      <td>0.0</td>\n",
       "      <td>0.000000</td>\n",
       "      <td>0.0</td>\n",
       "      <td>0.0</td>\n",
       "      <td>0.0</td>\n",
       "      <td>3325.3</td>\n",
       "      <td>66.015234</td>\n",
       "      <td>3293.0</td>\n",
       "    </tr>\n",
       "    <tr>\n",
       "      <th>379018</th>\n",
       "      <td>40.0</td>\n",
       "      <td>0.000000</td>\n",
       "      <td>0.0</td>\n",
       "      <td>0.000000</td>\n",
       "      <td>0.0</td>\n",
       "      <td>0.0</td>\n",
       "      <td>0.0</td>\n",
       "      <td>3293.2</td>\n",
       "      <td>43.355892</td>\n",
       "      <td>3317.0</td>\n",
       "    </tr>\n",
       "    <tr>\n",
       "      <th>379019</th>\n",
       "      <td>40.0</td>\n",
       "      <td>0.000000</td>\n",
       "      <td>0.0</td>\n",
       "      <td>0.000000</td>\n",
       "      <td>0.0</td>\n",
       "      <td>0.0</td>\n",
       "      <td>0.0</td>\n",
       "      <td>3317.0</td>\n",
       "      <td>40.033319</td>\n",
       "      <td>3283.0</td>\n",
       "    </tr>\n",
       "    <tr>\n",
       "      <th>379020</th>\n",
       "      <td>40.0</td>\n",
       "      <td>0.000000</td>\n",
       "      <td>0.0</td>\n",
       "      <td>0.000000</td>\n",
       "      <td>0.0</td>\n",
       "      <td>0.0</td>\n",
       "      <td>0.0</td>\n",
       "      <td>3283.2</td>\n",
       "      <td>40.575855</td>\n",
       "      <td>3314.0</td>\n",
       "    </tr>\n",
       "  </tbody>\n",
       "</table>\n",
       "<p>379021 rows × 10 columns</p>\n",
       "</div>"
      ],
      "text/plain": [
       "        fps_mean   fps_std  rtt_mean    rtt_std  dropped_frames_mean  \\\n",
       "0           24.4  0.516398      91.1   6.723921                  0.0   \n",
       "1           28.6  2.065591      99.7  15.923777                  0.0   \n",
       "2           30.0  0.000000      98.1  11.798776                  0.0   \n",
       "3           30.3  0.948683      99.4  13.014522                  0.0   \n",
       "4           29.9  0.316228     123.2  62.476307                  0.0   \n",
       "...          ...       ...       ...        ...                  ...   \n",
       "379016      40.0  0.000000       0.0   0.000000                  0.0   \n",
       "379017      40.0  0.000000       0.0   0.000000                  0.0   \n",
       "379018      40.0  0.000000       0.0   0.000000                  0.0   \n",
       "379019      40.0  0.000000       0.0   0.000000                  0.0   \n",
       "379020      40.0  0.000000       0.0   0.000000                  0.0   \n",
       "\n",
       "        dropped_frames_std  dropped_frames_max  bitrate_mean  bitrate_std  \\\n",
       "0                      0.0                 0.0         460.5     7.648529   \n",
       "1                      0.0                 0.0         616.3   155.414893   \n",
       "2                      0.0                 0.0         565.2     9.077445   \n",
       "3                      0.0                 0.0         573.8    28.350191   \n",
       "4                      0.0                 0.0         585.8    59.458295   \n",
       "...                    ...                 ...           ...          ...   \n",
       "379016                 0.0                 0.0        3324.9    52.846633   \n",
       "379017                 0.0                 0.0        3325.3    66.015234   \n",
       "379018                 0.0                 0.0        3293.2    43.355892   \n",
       "379019                 0.0                 0.0        3317.0    40.033319   \n",
       "379020                 0.0                 0.0        3283.2    40.575855   \n",
       "\n",
       "        target  \n",
       "0        616.0  \n",
       "1        565.0  \n",
       "2        573.0  \n",
       "3        585.0  \n",
       "4        555.0  \n",
       "...        ...  \n",
       "379016  3325.0  \n",
       "379017  3293.0  \n",
       "379018  3317.0  \n",
       "379019  3283.0  \n",
       "379020  3314.0  \n",
       "\n",
       "[379021 rows x 10 columns]"
      ]
     },
     "execution_count": 6,
     "metadata": {},
     "output_type": "execute_result"
    }
   ],
   "source": [
    "bitrate_train"
   ]
  },
  {
   "cell_type": "code",
   "execution_count": 72,
   "metadata": {},
   "outputs": [
    {
     "data": {
      "text/html": [
       "<div>\n",
       "<style scoped>\n",
       "    .dataframe tbody tr th:only-of-type {\n",
       "        vertical-align: middle;\n",
       "    }\n",
       "\n",
       "    .dataframe tbody tr th {\n",
       "        vertical-align: top;\n",
       "    }\n",
       "\n",
       "    .dataframe thead th {\n",
       "        text-align: right;\n",
       "    }\n",
       "</style>\n",
       "<table border=\"1\" class=\"dataframe\">\n",
       "  <thead>\n",
       "    <tr style=\"text-align: right;\">\n",
       "      <th></th>\n",
       "      <th>fps_mean</th>\n",
       "      <th>fps_std</th>\n",
       "      <th>rtt_mean</th>\n",
       "      <th>rtt_std</th>\n",
       "      <th>dropped_frames_mean</th>\n",
       "      <th>dropped_frames_std</th>\n",
       "      <th>dropped_frames_max</th>\n",
       "      <th>bitrate_mean</th>\n",
       "      <th>bitrate_std</th>\n",
       "      <th>target</th>\n",
       "    </tr>\n",
       "  </thead>\n",
       "  <tbody>\n",
       "    <tr>\n",
       "      <th>count</th>\n",
       "      <td>379021.000000</td>\n",
       "      <td>379021.000000</td>\n",
       "      <td>379021.000000</td>\n",
       "      <td>379021.000000</td>\n",
       "      <td>379021.000000</td>\n",
       "      <td>379021.000000</td>\n",
       "      <td>379021.000000</td>\n",
       "      <td>379021.000000</td>\n",
       "      <td>379021.000000</td>\n",
       "      <td>379021.000000</td>\n",
       "    </tr>\n",
       "    <tr>\n",
       "      <th>mean</th>\n",
       "      <td>35.231127</td>\n",
       "      <td>1.725705</td>\n",
       "      <td>49.623858</td>\n",
       "      <td>12.763672</td>\n",
       "      <td>0.180451</td>\n",
       "      <td>0.469548</td>\n",
       "      <td>1.450719</td>\n",
       "      <td>7516.585502</td>\n",
       "      <td>1603.487501</td>\n",
       "      <td>7525.396231</td>\n",
       "    </tr>\n",
       "    <tr>\n",
       "      <th>std</th>\n",
       "      <td>10.975010</td>\n",
       "      <td>2.505942</td>\n",
       "      <td>94.781098</td>\n",
       "      <td>112.684460</td>\n",
       "      <td>1.732890</td>\n",
       "      <td>3.157866</td>\n",
       "      <td>9.670928</td>\n",
       "      <td>6073.992189</td>\n",
       "      <td>1721.021623</td>\n",
       "      <td>6070.817736</td>\n",
       "    </tr>\n",
       "    <tr>\n",
       "      <th>min</th>\n",
       "      <td>10.000000</td>\n",
       "      <td>0.000000</td>\n",
       "      <td>0.000000</td>\n",
       "      <td>0.000000</td>\n",
       "      <td>0.000000</td>\n",
       "      <td>0.000000</td>\n",
       "      <td>0.000000</td>\n",
       "      <td>0.000000</td>\n",
       "      <td>0.000000</td>\n",
       "      <td>0.000000</td>\n",
       "    </tr>\n",
       "    <tr>\n",
       "      <th>25%</th>\n",
       "      <td>28.800000</td>\n",
       "      <td>0.316228</td>\n",
       "      <td>14.300000</td>\n",
       "      <td>0.699206</td>\n",
       "      <td>0.000000</td>\n",
       "      <td>0.000000</td>\n",
       "      <td>0.000000</td>\n",
       "      <td>2773.300000</td>\n",
       "      <td>383.683550</td>\n",
       "      <td>2785.000000</td>\n",
       "    </tr>\n",
       "    <tr>\n",
       "      <th>50%</th>\n",
       "      <td>30.000000</td>\n",
       "      <td>0.942809</td>\n",
       "      <td>32.200000</td>\n",
       "      <td>1.433721</td>\n",
       "      <td>0.000000</td>\n",
       "      <td>0.000000</td>\n",
       "      <td>0.000000</td>\n",
       "      <td>6287.200000</td>\n",
       "      <td>1112.710010</td>\n",
       "      <td>6296.000000</td>\n",
       "    </tr>\n",
       "    <tr>\n",
       "      <th>75%</th>\n",
       "      <td>43.600000</td>\n",
       "      <td>2.233582</td>\n",
       "      <td>55.900000</td>\n",
       "      <td>4.948625</td>\n",
       "      <td>0.000000</td>\n",
       "      <td>0.000000</td>\n",
       "      <td>0.000000</td>\n",
       "      <td>10187.200000</td>\n",
       "      <td>2241.848801</td>\n",
       "      <td>10192.000000</td>\n",
       "    </tr>\n",
       "    <tr>\n",
       "      <th>max</th>\n",
       "      <td>125.800000</td>\n",
       "      <td>307.167273</td>\n",
       "      <td>12898.400000</td>\n",
       "      <td>40721.933293</td>\n",
       "      <td>540.000000</td>\n",
       "      <td>202.385770</td>\n",
       "      <td>640.000000</td>\n",
       "      <td>64913.500000</td>\n",
       "      <td>26908.532303</td>\n",
       "      <td>64913.000000</td>\n",
       "    </tr>\n",
       "  </tbody>\n",
       "</table>\n",
       "</div>"
      ],
      "text/plain": [
       "            fps_mean        fps_std       rtt_mean        rtt_std  \\\n",
       "count  379021.000000  379021.000000  379021.000000  379021.000000   \n",
       "mean       35.231127       1.725705      49.623858      12.763672   \n",
       "std        10.975010       2.505942      94.781098     112.684460   \n",
       "min        10.000000       0.000000       0.000000       0.000000   \n",
       "25%        28.800000       0.316228      14.300000       0.699206   \n",
       "50%        30.000000       0.942809      32.200000       1.433721   \n",
       "75%        43.600000       2.233582      55.900000       4.948625   \n",
       "max       125.800000     307.167273   12898.400000   40721.933293   \n",
       "\n",
       "       dropped_frames_mean  dropped_frames_std  dropped_frames_max  \\\n",
       "count        379021.000000       379021.000000       379021.000000   \n",
       "mean              0.180451            0.469548            1.450719   \n",
       "std               1.732890            3.157866            9.670928   \n",
       "min               0.000000            0.000000            0.000000   \n",
       "25%               0.000000            0.000000            0.000000   \n",
       "50%               0.000000            0.000000            0.000000   \n",
       "75%               0.000000            0.000000            0.000000   \n",
       "max             540.000000          202.385770          640.000000   \n",
       "\n",
       "        bitrate_mean    bitrate_std         target  \n",
       "count  379021.000000  379021.000000  379021.000000  \n",
       "mean     7516.585502    1603.487501    7525.396231  \n",
       "std      6073.992189    1721.021623    6070.817736  \n",
       "min         0.000000       0.000000       0.000000  \n",
       "25%      2773.300000     383.683550    2785.000000  \n",
       "50%      6287.200000    1112.710010    6296.000000  \n",
       "75%     10187.200000    2241.848801   10192.000000  \n",
       "max     64913.500000   26908.532303   64913.000000  "
      ]
     },
     "execution_count": 72,
     "metadata": {},
     "output_type": "execute_result"
    }
   ],
   "source": [
    "bitrate_train.describe()"
   ]
  },
  {
   "cell_type": "markdown",
   "metadata": {},
   "source": [
    "## Empty values"
   ]
  },
  {
   "cell_type": "code",
   "execution_count": 74,
   "metadata": {},
   "outputs": [
    {
     "data": {
      "text/plain": [
       "fps_mean               0\n",
       "fps_std                0\n",
       "rtt_mean               0\n",
       "rtt_std                0\n",
       "dropped_frames_mean    0\n",
       "dropped_frames_std     0\n",
       "dropped_frames_max     0\n",
       "bitrate_mean           0\n",
       "bitrate_std            0\n",
       "target                 0\n",
       "dtype: int64"
      ]
     },
     "execution_count": 74,
     "metadata": {},
     "output_type": "execute_result"
    }
   ],
   "source": [
    "bitrate_train.isna().sum()"
   ]
  },
  {
   "cell_type": "markdown",
   "metadata": {},
   "source": [
    "There is 0 nan values exist."
   ]
  },
  {
   "cell_type": "markdown",
   "metadata": {},
   "source": [
    "## Data distribution\n",
    "Also in this section I will remove outliers   "
   ]
  },
  {
   "cell_type": "code",
   "execution_count": 75,
   "metadata": {},
   "outputs": [
    {
     "data": {
      "text/plain": [
       "<AxesSubplot:>"
      ]
     },
     "execution_count": 75,
     "metadata": {},
     "output_type": "execute_result"
    },
    {
     "data": {
      "image/png": "[encoded data removed]",
      "text/plain": [
       "<Figure size 640x480 with 1 Axes>"
      ]
     },
     "metadata": {},
     "output_type": "display_data"
    }
   ],
   "source": [
    "bitrate_train.boxplot(column='fps_mean')"
   ]
  },
  {
   "cell_type": "code",
   "execution_count": 76,
   "metadata": {},
   "outputs": [
    {
     "data": {
      "text/plain": [
       "(378990, 10)"
      ]
     },
     "execution_count": 76,
     "metadata": {},
     "output_type": "execute_result"
    }
   ],
   "source": [
    "bitrate_train = bitrate_train[bitrate_train['fps_mean'] < 65]\n",
    "bitrate_train.shape"
   ]
  },
  {
   "cell_type": "code",
   "execution_count": 77,
   "metadata": {},
   "outputs": [
    {
     "data": {
      "text/plain": [
       "<AxesSubplot:>"
      ]
     },
     "execution_count": 77,
     "metadata": {},
     "output_type": "execute_result"
    },
    {
     "data": {
      "image/png": "[encoded data removed]",
      "text/plain": [
       "<Figure size 640x480 with 1 Axes>"
      ]
     },
     "metadata": {},
     "output_type": "display_data"
    }
   ],
   "source": [
    "bitrate_train.boxplot(column='fps_std')"
   ]
  },
  {
   "cell_type": "code",
   "execution_count": 78,
   "metadata": {},
   "outputs": [
    {
     "data": {
      "text/plain": [
       "(378969, 10)"
      ]
     },
     "execution_count": 78,
     "metadata": {},
     "output_type": "execute_result"
    }
   ],
   "source": [
    "bitrate_train = bitrate_train[bitrate_train['fps_std'] < 40.0]\n",
    "bitrate_train.shape"
   ]
  },
  {
   "cell_type": "code",
   "execution_count": 79,
   "metadata": {},
   "outputs": [
    {
     "data": {
      "text/plain": [
       "<AxesSubplot:>"
      ]
     },
     "execution_count": 79,
     "metadata": {},
     "output_type": "execute_result"
    },
    {
     "data": {
      "image/png": "[encoded data removed]",
      "text/plain": [
       "<Figure size 640x480 with 1 Axes>"
      ]
     },
     "metadata": {},
     "output_type": "display_data"
    }
   ],
   "source": [
    "bitrate_train.boxplot(column='rtt_std')"
   ]
  },
  {
   "cell_type": "code",
   "execution_count": 80,
   "metadata": {},
   "outputs": [
    {
     "data": {
      "text/plain": [
       "(377525, 10)"
      ]
     },
     "execution_count": 80,
     "metadata": {},
     "output_type": "execute_result"
    }
   ],
   "source": [
    "bitrate_train = bitrate_train[bitrate_train['rtt_std'] < 500]\n",
    "bitrate_train.shape"
   ]
  },
  {
   "cell_type": "code",
   "execution_count": 81,
   "metadata": {},
   "outputs": [
    {
     "data": {
      "text/plain": [
       "<AxesSubplot:>"
      ]
     },
     "execution_count": 81,
     "metadata": {},
     "output_type": "execute_result"
    },
    {
     "data": {
      "image/png": "[encoded data removed]",
      "text/plain": [
       "<Figure size 640x480 with 1 Axes>"
      ]
     },
     "metadata": {},
     "output_type": "display_data"
    }
   ],
   "source": [
    "bitrate_train.boxplot(column='dropped_frames_mean')"
   ]
  },
  {
   "cell_type": "code",
   "execution_count": 82,
   "metadata": {},
   "outputs": [
    {
     "data": {
      "text/plain": [
       "(377522, 10)"
      ]
     },
     "execution_count": 82,
     "metadata": {},
     "output_type": "execute_result"
    }
   ],
   "source": [
    "bitrate_train = bitrate_train[bitrate_train['dropped_frames_mean'] < 100]\n",
    "bitrate_train.shape"
   ]
  },
  {
   "cell_type": "code",
   "execution_count": 83,
   "metadata": {},
   "outputs": [
    {
     "data": {
      "text/plain": [
       "<AxesSubplot:>"
      ]
     },
     "execution_count": 83,
     "metadata": {},
     "output_type": "execute_result"
    },
    {
     "data": {
      "image/png": "[encoded data removed]",
      "text/plain": [
       "<Figure size 640x480 with 1 Axes>"
      ]
     },
     "metadata": {},
     "output_type": "display_data"
    }
   ],
   "source": [
    "bitrate_train.boxplot(column='dropped_frames_std')"
   ]
  },
  {
   "cell_type": "code",
   "execution_count": 84,
   "metadata": {},
   "outputs": [
    {
     "data": {
      "text/plain": [
       "(377520, 10)"
      ]
     },
     "execution_count": 84,
     "metadata": {},
     "output_type": "execute_result"
    }
   ],
   "source": [
    "bitrate_train = bitrate_train[bitrate_train['dropped_frames_std'] < 75]\n",
    "bitrate_train.shape"
   ]
  },
  {
   "cell_type": "code",
   "execution_count": 85,
   "metadata": {},
   "outputs": [
    {
     "data": {
      "text/plain": [
       "<AxesSubplot:>"
      ]
     },
     "execution_count": 85,
     "metadata": {},
     "output_type": "execute_result"
    },
    {
     "data": {
      "image/png": "[encoded data removed]",
      "text/plain": [
       "<Figure size 640x480 with 1 Axes>"
      ]
     },
     "metadata": {},
     "output_type": "display_data"
    }
   ],
   "source": [
    "bitrate_train.boxplot(column='dropped_frames_max')"
   ]
  },
  {
   "cell_type": "code",
   "execution_count": 86,
   "metadata": {},
   "outputs": [
    {
     "data": {
      "text/plain": [
       "(376327, 10)"
      ]
     },
     "execution_count": 86,
     "metadata": {},
     "output_type": "execute_result"
    }
   ],
   "source": [
    "bitrate_train = bitrate_train[bitrate_train['dropped_frames_max'] < 75]\n",
    "bitrate_train.shape"
   ]
  },
  {
   "cell_type": "code",
   "execution_count": 87,
   "metadata": {},
   "outputs": [
    {
     "data": {
      "text/plain": [
       "<AxesSubplot:>"
      ]
     },
     "execution_count": 87,
     "metadata": {},
     "output_type": "execute_result"
    },
    {
     "data": {
      "image/png": "[encoded data removed]",
      "text/plain": [
       "<Figure size 640x480 with 1 Axes>"
      ]
     },
     "metadata": {},
     "output_type": "display_data"
    }
   ],
   "source": [
    "bitrate_train.boxplot(column='rtt_std')"
   ]
  },
  {
   "cell_type": "code",
   "execution_count": 88,
   "metadata": {},
   "outputs": [
    {
     "data": {
      "text/plain": [
       "(375470, 10)"
      ]
     },
     "execution_count": 88,
     "metadata": {},
     "output_type": "execute_result"
    }
   ],
   "source": [
    "bitrate_train = bitrate_train[bitrate_train['rtt_std'] < 300]\n",
    "bitrate_train.shape"
   ]
  },
  {
   "cell_type": "code",
   "execution_count": 89,
   "metadata": {},
   "outputs": [
    {
     "data": {
      "text/plain": [
       "<AxesSubplot:>"
      ]
     },
     "execution_count": 89,
     "metadata": {},
     "output_type": "execute_result"
    },
    {
     "data": {
      "image/png": "[encoded data removed]",
      "text/plain": [
       "<Figure size 640x480 with 1 Axes>"
      ]
     },
     "metadata": {},
     "output_type": "display_data"
    }
   ],
   "source": [
    "bitrate_train.boxplot(column='bitrate_mean')"
   ]
  },
  {
   "cell_type": "code",
   "execution_count": 90,
   "metadata": {},
   "outputs": [
    {
     "data": {
      "text/plain": [
       "(374628, 10)"
      ]
     },
     "execution_count": 90,
     "metadata": {},
     "output_type": "execute_result"
    }
   ],
   "source": [
    "bitrate_train = bitrate_train[bitrate_train['bitrate_mean'] < 30000]\n",
    "bitrate_train.shape"
   ]
  },
  {
   "cell_type": "code",
   "execution_count": 91,
   "metadata": {},
   "outputs": [
    {
     "data": {
      "text/plain": [
       "<AxesSubplot:>"
      ]
     },
     "execution_count": 91,
     "metadata": {},
     "output_type": "execute_result"
    },
    {
     "data": {
      "image/png": "[encoded data removed]",
      "text/plain": [
       "<Figure size 640x480 with 1 Axes>"
      ]
     },
     "metadata": {},
     "output_type": "display_data"
    }
   ],
   "source": [
    "bitrate_train.boxplot(column='bitrate_std')"
   ]
  },
  {
   "cell_type": "code",
   "execution_count": 92,
   "metadata": {},
   "outputs": [
    {
     "data": {
      "text/plain": [
       "(373656, 10)"
      ]
     },
     "execution_count": 92,
     "metadata": {},
     "output_type": "execute_result"
    }
   ],
   "source": [
    "bitrate_train = bitrate_train[bitrate_train['bitrate_std'] < 10000]\n",
    "bitrate_train.shape"
   ]
  },
  {
   "cell_type": "code",
   "execution_count": null,
   "metadata": {},
   "outputs": [],
   "source": []
  }
 ],
 "metadata": {
  "kernelspec": {
   "display_name": "ds",
   "language": "python",
   "name": "ds"
  },
  "language_info": {
   "codemirror_mode": {
    "name": "ipython",
    "version": 3
   },
   "file_extension": ".py",
   "mimetype": "text/x-python",
   "name": "python",
   "nbconvert_exporter": "python",
   "pygments_lexer": "ipython3",
   "version": "3.10.5"
  },
  "orig_nbformat": 4,
  "vscode": {
   "interpreter": {
    "hash": "5fa8e7a0e7c7188de72acea4ae1bc222d1770499c4c3d36ce32843ef46b20053"
   }
  }
 },
 "nbformat": 4,
 "nbformat_minor": 2
}
