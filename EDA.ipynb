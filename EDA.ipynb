{
 "cells": [
  {
   "cell_type": "code",
   "execution_count": 1,
   "metadata": {},
   "outputs": [
    {
     "name": "stderr",
     "output_type": "stream",
     "text": [
      "/opt/homebrew/Caskroom/miniforge/base/envs/ds/lib/python3.10/site-packages/tqdm/auto.py:22: TqdmWarning: IProgress not found. Please update jupyter and ipywidgets. See https://ipywidgets.readthedocs.io/en/stable/user_install.html\n",
      "  from .autonotebook import tqdm as notebook_tqdm\n"
     ]
    }
   ],
   "source": [
    "import pandas as pd\n",
    "from sklearn.feature_selection import SelectKBest\n",
    "from sklearn.feature_selection import f_regression\n",
    "from sklearn.preprocessing import OneHotEncoder\n",
    "import matplotlib.pyplot as plt\n",
    "\n",
    "from pandas_profiling import ProfileReport"
   ]
  },
  {
   "cell_type": "code",
   "execution_count": 2,
   "metadata": {},
   "outputs": [],
   "source": [
    "RANDOM_SEED = 42"
   ]
  },
  {
   "cell_type": "code",
   "execution_count": 3,
   "metadata": {},
   "outputs": [],
   "source": [
    "bitrate_train = pd.read_csv('data/bitrate_prediction/bitrate_train.csv')\n",
    "stream_quality_train = pd.read_csv('data/stream_quality_data/train_data.csv')"
   ]
  },
  {
   "cell_type": "code",
   "execution_count": 4,
   "metadata": {},
   "outputs": [
    {
     "data": {
      "text/html": [
       "<div>\n",
       "<style scoped>\n",
       "    .dataframe tbody tr th:only-of-type {\n",
       "        vertical-align: middle;\n",
       "    }\n",
       "\n",
       "    .dataframe tbody tr th {\n",
       "        vertical-align: top;\n",
       "    }\n",
       "\n",
       "    .dataframe thead th {\n",
       "        text-align: right;\n",
       "    }\n",
       "</style>\n",
       "<table border=\"1\" class=\"dataframe\">\n",
       "  <thead>\n",
       "    <tr style=\"text-align: right;\">\n",
       "      <th></th>\n",
       "      <th>fps_mean</th>\n",
       "      <th>fps_std</th>\n",
       "      <th>rtt_mean</th>\n",
       "      <th>rtt_std</th>\n",
       "      <th>dropped_frames_mean</th>\n",
       "      <th>dropped_frames_std</th>\n",
       "      <th>dropped_frames_max</th>\n",
       "      <th>bitrate_mean</th>\n",
       "      <th>bitrate_std</th>\n",
       "      <th>target</th>\n",
       "    </tr>\n",
       "  </thead>\n",
       "  <tbody>\n",
       "    <tr>\n",
       "      <th>0</th>\n",
       "      <td>24.4</td>\n",
       "      <td>0.516398</td>\n",
       "      <td>91.1</td>\n",
       "      <td>6.723921</td>\n",
       "      <td>0.0</td>\n",
       "      <td>0.0</td>\n",
       "      <td>0.0</td>\n",
       "      <td>460.5</td>\n",
       "      <td>7.648529</td>\n",
       "      <td>616.0</td>\n",
       "    </tr>\n",
       "    <tr>\n",
       "      <th>1</th>\n",
       "      <td>28.6</td>\n",
       "      <td>2.065591</td>\n",
       "      <td>99.7</td>\n",
       "      <td>15.923777</td>\n",
       "      <td>0.0</td>\n",
       "      <td>0.0</td>\n",
       "      <td>0.0</td>\n",
       "      <td>616.3</td>\n",
       "      <td>155.414893</td>\n",
       "      <td>565.0</td>\n",
       "    </tr>\n",
       "    <tr>\n",
       "      <th>2</th>\n",
       "      <td>30.0</td>\n",
       "      <td>0.000000</td>\n",
       "      <td>98.1</td>\n",
       "      <td>11.798776</td>\n",
       "      <td>0.0</td>\n",
       "      <td>0.0</td>\n",
       "      <td>0.0</td>\n",
       "      <td>565.2</td>\n",
       "      <td>9.077445</td>\n",
       "      <td>573.0</td>\n",
       "    </tr>\n",
       "    <tr>\n",
       "      <th>3</th>\n",
       "      <td>30.3</td>\n",
       "      <td>0.948683</td>\n",
       "      <td>99.4</td>\n",
       "      <td>13.014522</td>\n",
       "      <td>0.0</td>\n",
       "      <td>0.0</td>\n",
       "      <td>0.0</td>\n",
       "      <td>573.8</td>\n",
       "      <td>28.350191</td>\n",
       "      <td>585.0</td>\n",
       "    </tr>\n",
       "    <tr>\n",
       "      <th>4</th>\n",
       "      <td>29.9</td>\n",
       "      <td>0.316228</td>\n",
       "      <td>123.2</td>\n",
       "      <td>62.476307</td>\n",
       "      <td>0.0</td>\n",
       "      <td>0.0</td>\n",
       "      <td>0.0</td>\n",
       "      <td>585.8</td>\n",
       "      <td>59.458295</td>\n",
       "      <td>555.0</td>\n",
       "    </tr>\n",
       "    <tr>\n",
       "      <th>...</th>\n",
       "      <td>...</td>\n",
       "      <td>...</td>\n",
       "      <td>...</td>\n",
       "      <td>...</td>\n",
       "      <td>...</td>\n",
       "      <td>...</td>\n",
       "      <td>...</td>\n",
       "      <td>...</td>\n",
       "      <td>...</td>\n",
       "      <td>...</td>\n",
       "    </tr>\n",
       "    <tr>\n",
       "      <th>379016</th>\n",
       "      <td>40.0</td>\n",
       "      <td>0.000000</td>\n",
       "      <td>0.0</td>\n",
       "      <td>0.000000</td>\n",
       "      <td>0.0</td>\n",
       "      <td>0.0</td>\n",
       "      <td>0.0</td>\n",
       "      <td>3324.9</td>\n",
       "      <td>52.846633</td>\n",
       "      <td>3325.0</td>\n",
       "    </tr>\n",
       "    <tr>\n",
       "      <th>379017</th>\n",
       "      <td>40.0</td>\n",
       "      <td>0.000000</td>\n",
       "      <td>0.0</td>\n",
       "      <td>0.000000</td>\n",
       "      <td>0.0</td>\n",
       "      <td>0.0</td>\n",
       "      <td>0.0</td>\n",
       "      <td>3325.3</td>\n",
       "      <td>66.015234</td>\n",
       "      <td>3293.0</td>\n",
       "    </tr>\n",
       "    <tr>\n",
       "      <th>379018</th>\n",
       "      <td>40.0</td>\n",
       "      <td>0.000000</td>\n",
       "      <td>0.0</td>\n",
       "      <td>0.000000</td>\n",
       "      <td>0.0</td>\n",
       "      <td>0.0</td>\n",
       "      <td>0.0</td>\n",
       "      <td>3293.2</td>\n",
       "      <td>43.355892</td>\n",
       "      <td>3317.0</td>\n",
       "    </tr>\n",
       "    <tr>\n",
       "      <th>379019</th>\n",
       "      <td>40.0</td>\n",
       "      <td>0.000000</td>\n",
       "      <td>0.0</td>\n",
       "      <td>0.000000</td>\n",
       "      <td>0.0</td>\n",
       "      <td>0.0</td>\n",
       "      <td>0.0</td>\n",
       "      <td>3317.0</td>\n",
       "      <td>40.033319</td>\n",
       "      <td>3283.0</td>\n",
       "    </tr>\n",
       "    <tr>\n",
       "      <th>379020</th>\n",
       "      <td>40.0</td>\n",
       "      <td>0.000000</td>\n",
       "      <td>0.0</td>\n",
       "      <td>0.000000</td>\n",
       "      <td>0.0</td>\n",
       "      <td>0.0</td>\n",
       "      <td>0.0</td>\n",
       "      <td>3283.2</td>\n",
       "      <td>40.575855</td>\n",
       "      <td>3314.0</td>\n",
       "    </tr>\n",
       "  </tbody>\n",
       "</table>\n",
       "<p>379021 rows × 10 columns</p>\n",
       "</div>"
      ],
      "text/plain": [
       "        fps_mean   fps_std  rtt_mean    rtt_std  dropped_frames_mean  \\\n",
       "0           24.4  0.516398      91.1   6.723921                  0.0   \n",
       "1           28.6  2.065591      99.7  15.923777                  0.0   \n",
       "2           30.0  0.000000      98.1  11.798776                  0.0   \n",
       "3           30.3  0.948683      99.4  13.014522                  0.0   \n",
       "4           29.9  0.316228     123.2  62.476307                  0.0   \n",
       "...          ...       ...       ...        ...                  ...   \n",
       "379016      40.0  0.000000       0.0   0.000000                  0.0   \n",
       "379017      40.0  0.000000       0.0   0.000000                  0.0   \n",
       "379018      40.0  0.000000       0.0   0.000000                  0.0   \n",
       "379019      40.0  0.000000       0.0   0.000000                  0.0   \n",
       "379020      40.0  0.000000       0.0   0.000000                  0.0   \n",
       "\n",
       "        dropped_frames_std  dropped_frames_max  bitrate_mean  bitrate_std  \\\n",
       "0                      0.0                 0.0         460.5     7.648529   \n",
       "1                      0.0                 0.0         616.3   155.414893   \n",
       "2                      0.0                 0.0         565.2     9.077445   \n",
       "3                      0.0                 0.0         573.8    28.350191   \n",
       "4                      0.0                 0.0         585.8    59.458295   \n",
       "...                    ...                 ...           ...          ...   \n",
       "379016                 0.0                 0.0        3324.9    52.846633   \n",
       "379017                 0.0                 0.0        3325.3    66.015234   \n",
       "379018                 0.0                 0.0        3293.2    43.355892   \n",
       "379019                 0.0                 0.0        3317.0    40.033319   \n",
       "379020                 0.0                 0.0        3283.2    40.575855   \n",
       "\n",
       "        target  \n",
       "0        616.0  \n",
       "1        565.0  \n",
       "2        573.0  \n",
       "3        585.0  \n",
       "4        555.0  \n",
       "...        ...  \n",
       "379016  3325.0  \n",
       "379017  3293.0  \n",
       "379018  3317.0  \n",
       "379019  3283.0  \n",
       "379020  3314.0  \n",
       "\n",
       "[379021 rows x 10 columns]"
      ]
     },
     "execution_count": 4,
     "metadata": {},
     "output_type": "execute_result"
    }
   ],
   "source": [
    "bitrate_train"
   ]
  },
  {
   "cell_type": "code",
   "execution_count": 8,
   "metadata": {},
   "outputs": [
    {
     "name": "stderr",
     "output_type": "stream",
     "text": [
      "Summarize dataset:  62%|██████▏   | 13/21 [00:00<00:00, 30.43it/s, Calculate kendall correlation]       /opt/homebrew/Caskroom/miniforge/base/envs/ds/lib/python3.10/site-packages/scipy/stats/_stats_py.py:5215: RuntimeWarning: overflow encountered in long_scalars\n",
      "  (2 * xtie * ytie) / m + x0 * y0 / (9 * m * (size - 2)))\n",
      "Summarize dataset: 100%|██████████| 123/123 [00:17<00:00,  7.11it/s, Completed]                                      \n",
      "Generate report structure: 100%|██████████| 1/1 [00:01<00:00,  1.48s/it]\n",
      "Render HTML: 100%|██████████| 1/1 [00:01<00:00,  1.30s/it]\n",
      "Export report to file: 100%|██████████| 1/1 [00:00<00:00, 238.16it/s]\n"
     ]
    }
   ],
   "source": [
    "bitrate_profile = ProfileReport(bitrate_train, title=\"bitrate data\")\n",
    "bitrate_profile.to_file('bitrate_profile.html')"
   ]
  },
  {
   "cell_type": "code",
   "execution_count": 9,
   "metadata": {},
   "outputs": [
    {
     "name": "stderr",
     "output_type": "stream",
     "text": [
      "Summarize dataset:  65%|██████▌   | 15/23 [00:02<00:00,  8.36it/s, Calculate kendall correlation]       /opt/homebrew/Caskroom/miniforge/base/envs/ds/lib/python3.10/site-packages/scipy/stats/_stats_py.py:5215: RuntimeWarning: overflow encountered in long_scalars\n",
      "  (2 * xtie * ytie) / m + x0 * y0 / (9 * m * (size - 2)))\n",
      "Summarize dataset: 100%|██████████| 106/106 [00:15<00:00,  6.86it/s, Completed]                                      \n",
      "Generate report structure: 100%|██████████| 1/1 [00:01<00:00,  1.68s/it]\n",
      "Render HTML: 100%|██████████| 1/1 [00:01<00:00,  1.08s/it]\n",
      "Export report to file: 100%|██████████| 1/1 [00:00<00:00, 282.65it/s]\n"
     ]
    }
   ],
   "source": [
    "stream_quality_profile = ProfileReport(stream_quality_train, title=\"stream quality data\")\n",
    "stream_quality_profile.to_file('stream_quality_profile.html')"
   ]
  },
  {
   "cell_type": "markdown",
   "metadata": {},
   "source": [
    "## Regression"
   ]
  },
  {
   "cell_type": "code",
   "execution_count": 5,
   "metadata": {},
   "outputs": [
    {
     "data": {
      "text/html": [
       "<div>\n",
       "<style scoped>\n",
       "    .dataframe tbody tr th:only-of-type {\n",
       "        vertical-align: middle;\n",
       "    }\n",
       "\n",
       "    .dataframe tbody tr th {\n",
       "        vertical-align: top;\n",
       "    }\n",
       "\n",
       "    .dataframe thead th {\n",
       "        text-align: right;\n",
       "    }\n",
       "</style>\n",
       "<table border=\"1\" class=\"dataframe\">\n",
       "  <thead>\n",
       "    <tr style=\"text-align: right;\">\n",
       "      <th></th>\n",
       "      <th>fps_mean</th>\n",
       "      <th>fps_std</th>\n",
       "      <th>rtt_mean</th>\n",
       "      <th>rtt_std</th>\n",
       "      <th>dropped_frames_mean</th>\n",
       "      <th>dropped_frames_std</th>\n",
       "      <th>dropped_frames_max</th>\n",
       "      <th>bitrate_mean</th>\n",
       "      <th>bitrate_std</th>\n",
       "      <th>target</th>\n",
       "    </tr>\n",
       "  </thead>\n",
       "  <tbody>\n",
       "    <tr>\n",
       "      <th>0</th>\n",
       "      <td>24.4</td>\n",
       "      <td>0.516398</td>\n",
       "      <td>91.1</td>\n",
       "      <td>6.723921</td>\n",
       "      <td>0.0</td>\n",
       "      <td>0.0</td>\n",
       "      <td>0.0</td>\n",
       "      <td>460.5</td>\n",
       "      <td>7.648529</td>\n",
       "      <td>616.0</td>\n",
       "    </tr>\n",
       "    <tr>\n",
       "      <th>1</th>\n",
       "      <td>28.6</td>\n",
       "      <td>2.065591</td>\n",
       "      <td>99.7</td>\n",
       "      <td>15.923777</td>\n",
       "      <td>0.0</td>\n",
       "      <td>0.0</td>\n",
       "      <td>0.0</td>\n",
       "      <td>616.3</td>\n",
       "      <td>155.414893</td>\n",
       "      <td>565.0</td>\n",
       "    </tr>\n",
       "    <tr>\n",
       "      <th>2</th>\n",
       "      <td>30.0</td>\n",
       "      <td>0.000000</td>\n",
       "      <td>98.1</td>\n",
       "      <td>11.798776</td>\n",
       "      <td>0.0</td>\n",
       "      <td>0.0</td>\n",
       "      <td>0.0</td>\n",
       "      <td>565.2</td>\n",
       "      <td>9.077445</td>\n",
       "      <td>573.0</td>\n",
       "    </tr>\n",
       "    <tr>\n",
       "      <th>3</th>\n",
       "      <td>30.3</td>\n",
       "      <td>0.948683</td>\n",
       "      <td>99.4</td>\n",
       "      <td>13.014522</td>\n",
       "      <td>0.0</td>\n",
       "      <td>0.0</td>\n",
       "      <td>0.0</td>\n",
       "      <td>573.8</td>\n",
       "      <td>28.350191</td>\n",
       "      <td>585.0</td>\n",
       "    </tr>\n",
       "    <tr>\n",
       "      <th>4</th>\n",
       "      <td>29.9</td>\n",
       "      <td>0.316228</td>\n",
       "      <td>123.2</td>\n",
       "      <td>62.476307</td>\n",
       "      <td>0.0</td>\n",
       "      <td>0.0</td>\n",
       "      <td>0.0</td>\n",
       "      <td>585.8</td>\n",
       "      <td>59.458295</td>\n",
       "      <td>555.0</td>\n",
       "    </tr>\n",
       "    <tr>\n",
       "      <th>...</th>\n",
       "      <td>...</td>\n",
       "      <td>...</td>\n",
       "      <td>...</td>\n",
       "      <td>...</td>\n",
       "      <td>...</td>\n",
       "      <td>...</td>\n",
       "      <td>...</td>\n",
       "      <td>...</td>\n",
       "      <td>...</td>\n",
       "      <td>...</td>\n",
       "    </tr>\n",
       "    <tr>\n",
       "      <th>379016</th>\n",
       "      <td>40.0</td>\n",
       "      <td>0.000000</td>\n",
       "      <td>0.0</td>\n",
       "      <td>0.000000</td>\n",
       "      <td>0.0</td>\n",
       "      <td>0.0</td>\n",
       "      <td>0.0</td>\n",
       "      <td>3324.9</td>\n",
       "      <td>52.846633</td>\n",
       "      <td>3325.0</td>\n",
       "    </tr>\n",
       "    <tr>\n",
       "      <th>379017</th>\n",
       "      <td>40.0</td>\n",
       "      <td>0.000000</td>\n",
       "      <td>0.0</td>\n",
       "      <td>0.000000</td>\n",
       "      <td>0.0</td>\n",
       "      <td>0.0</td>\n",
       "      <td>0.0</td>\n",
       "      <td>3325.3</td>\n",
       "      <td>66.015234</td>\n",
       "      <td>3293.0</td>\n",
       "    </tr>\n",
       "    <tr>\n",
       "      <th>379018</th>\n",
       "      <td>40.0</td>\n",
       "      <td>0.000000</td>\n",
       "      <td>0.0</td>\n",
       "      <td>0.000000</td>\n",
       "      <td>0.0</td>\n",
       "      <td>0.0</td>\n",
       "      <td>0.0</td>\n",
       "      <td>3293.2</td>\n",
       "      <td>43.355892</td>\n",
       "      <td>3317.0</td>\n",
       "    </tr>\n",
       "    <tr>\n",
       "      <th>379019</th>\n",
       "      <td>40.0</td>\n",
       "      <td>0.000000</td>\n",
       "      <td>0.0</td>\n",
       "      <td>0.000000</td>\n",
       "      <td>0.0</td>\n",
       "      <td>0.0</td>\n",
       "      <td>0.0</td>\n",
       "      <td>3317.0</td>\n",
       "      <td>40.033319</td>\n",
       "      <td>3283.0</td>\n",
       "    </tr>\n",
       "    <tr>\n",
       "      <th>379020</th>\n",
       "      <td>40.0</td>\n",
       "      <td>0.000000</td>\n",
       "      <td>0.0</td>\n",
       "      <td>0.000000</td>\n",
       "      <td>0.0</td>\n",
       "      <td>0.0</td>\n",
       "      <td>0.0</td>\n",
       "      <td>3283.2</td>\n",
       "      <td>40.575855</td>\n",
       "      <td>3314.0</td>\n",
       "    </tr>\n",
       "  </tbody>\n",
       "</table>\n",
       "<p>379021 rows × 10 columns</p>\n",
       "</div>"
      ],
      "text/plain": [
       "        fps_mean   fps_std  rtt_mean    rtt_std  dropped_frames_mean  \\\n",
       "0           24.4  0.516398      91.1   6.723921                  0.0   \n",
       "1           28.6  2.065591      99.7  15.923777                  0.0   \n",
       "2           30.0  0.000000      98.1  11.798776                  0.0   \n",
       "3           30.3  0.948683      99.4  13.014522                  0.0   \n",
       "4           29.9  0.316228     123.2  62.476307                  0.0   \n",
       "...          ...       ...       ...        ...                  ...   \n",
       "379016      40.0  0.000000       0.0   0.000000                  0.0   \n",
       "379017      40.0  0.000000       0.0   0.000000                  0.0   \n",
       "379018      40.0  0.000000       0.0   0.000000                  0.0   \n",
       "379019      40.0  0.000000       0.0   0.000000                  0.0   \n",
       "379020      40.0  0.000000       0.0   0.000000                  0.0   \n",
       "\n",
       "        dropped_frames_std  dropped_frames_max  bitrate_mean  bitrate_std  \\\n",
       "0                      0.0                 0.0         460.5     7.648529   \n",
       "1                      0.0                 0.0         616.3   155.414893   \n",
       "2                      0.0                 0.0         565.2     9.077445   \n",
       "3                      0.0                 0.0         573.8    28.350191   \n",
       "4                      0.0                 0.0         585.8    59.458295   \n",
       "...                    ...                 ...           ...          ...   \n",
       "379016                 0.0                 0.0        3324.9    52.846633   \n",
       "379017                 0.0                 0.0        3325.3    66.015234   \n",
       "379018                 0.0                 0.0        3293.2    43.355892   \n",
       "379019                 0.0                 0.0        3317.0    40.033319   \n",
       "379020                 0.0                 0.0        3283.2    40.575855   \n",
       "\n",
       "        target  \n",
       "0        616.0  \n",
       "1        565.0  \n",
       "2        573.0  \n",
       "3        585.0  \n",
       "4        555.0  \n",
       "...        ...  \n",
       "379016  3325.0  \n",
       "379017  3293.0  \n",
       "379018  3317.0  \n",
       "379019  3283.0  \n",
       "379020  3314.0  \n",
       "\n",
       "[379021 rows x 10 columns]"
      ]
     },
     "execution_count": 5,
     "metadata": {},
     "output_type": "execute_result"
    }
   ],
   "source": [
    "bitrate_train"
   ]
  },
  {
   "cell_type": "code",
   "execution_count": 6,
   "metadata": {},
   "outputs": [
    {
     "data": {
      "text/html": [
       "<div>\n",
       "<style scoped>\n",
       "    .dataframe tbody tr th:only-of-type {\n",
       "        vertical-align: middle;\n",
       "    }\n",
       "\n",
       "    .dataframe tbody tr th {\n",
       "        vertical-align: top;\n",
       "    }\n",
       "\n",
       "    .dataframe thead th {\n",
       "        text-align: right;\n",
       "    }\n",
       "</style>\n",
       "<table border=\"1\" class=\"dataframe\">\n",
       "  <thead>\n",
       "    <tr style=\"text-align: right;\">\n",
       "      <th></th>\n",
       "      <th>fps_mean</th>\n",
       "      <th>fps_std</th>\n",
       "      <th>rtt_mean</th>\n",
       "      <th>rtt_std</th>\n",
       "      <th>dropped_frames_mean</th>\n",
       "      <th>dropped_frames_std</th>\n",
       "      <th>dropped_frames_max</th>\n",
       "      <th>bitrate_mean</th>\n",
       "      <th>bitrate_std</th>\n",
       "      <th>target</th>\n",
       "    </tr>\n",
       "  </thead>\n",
       "  <tbody>\n",
       "    <tr>\n",
       "      <th>count</th>\n",
       "      <td>379021.000000</td>\n",
       "      <td>379021.000000</td>\n",
       "      <td>379021.000000</td>\n",
       "      <td>379021.000000</td>\n",
       "      <td>379021.000000</td>\n",
       "      <td>379021.000000</td>\n",
       "      <td>379021.000000</td>\n",
       "      <td>379021.000000</td>\n",
       "      <td>379021.000000</td>\n",
       "      <td>379021.000000</td>\n",
       "    </tr>\n",
       "    <tr>\n",
       "      <th>mean</th>\n",
       "      <td>35.231127</td>\n",
       "      <td>1.725705</td>\n",
       "      <td>49.623858</td>\n",
       "      <td>12.763672</td>\n",
       "      <td>0.180451</td>\n",
       "      <td>0.469548</td>\n",
       "      <td>1.450719</td>\n",
       "      <td>7516.585502</td>\n",
       "      <td>1603.487501</td>\n",
       "      <td>7525.396231</td>\n",
       "    </tr>\n",
       "    <tr>\n",
       "      <th>std</th>\n",
       "      <td>10.975010</td>\n",
       "      <td>2.505942</td>\n",
       "      <td>94.781098</td>\n",
       "      <td>112.684460</td>\n",
       "      <td>1.732890</td>\n",
       "      <td>3.157866</td>\n",
       "      <td>9.670928</td>\n",
       "      <td>6073.992189</td>\n",
       "      <td>1721.021623</td>\n",
       "      <td>6070.817736</td>\n",
       "    </tr>\n",
       "    <tr>\n",
       "      <th>min</th>\n",
       "      <td>10.000000</td>\n",
       "      <td>0.000000</td>\n",
       "      <td>0.000000</td>\n",
       "      <td>0.000000</td>\n",
       "      <td>0.000000</td>\n",
       "      <td>0.000000</td>\n",
       "      <td>0.000000</td>\n",
       "      <td>0.000000</td>\n",
       "      <td>0.000000</td>\n",
       "      <td>0.000000</td>\n",
       "    </tr>\n",
       "    <tr>\n",
       "      <th>25%</th>\n",
       "      <td>28.800000</td>\n",
       "      <td>0.316228</td>\n",
       "      <td>14.300000</td>\n",
       "      <td>0.699206</td>\n",
       "      <td>0.000000</td>\n",
       "      <td>0.000000</td>\n",
       "      <td>0.000000</td>\n",
       "      <td>2773.300000</td>\n",
       "      <td>383.683550</td>\n",
       "      <td>2785.000000</td>\n",
       "    </tr>\n",
       "    <tr>\n",
       "      <th>50%</th>\n",
       "      <td>30.000000</td>\n",
       "      <td>0.942809</td>\n",
       "      <td>32.200000</td>\n",
       "      <td>1.433721</td>\n",
       "      <td>0.000000</td>\n",
       "      <td>0.000000</td>\n",
       "      <td>0.000000</td>\n",
       "      <td>6287.200000</td>\n",
       "      <td>1112.710010</td>\n",
       "      <td>6296.000000</td>\n",
       "    </tr>\n",
       "    <tr>\n",
       "      <th>75%</th>\n",
       "      <td>43.600000</td>\n",
       "      <td>2.233582</td>\n",
       "      <td>55.900000</td>\n",
       "      <td>4.948625</td>\n",
       "      <td>0.000000</td>\n",
       "      <td>0.000000</td>\n",
       "      <td>0.000000</td>\n",
       "      <td>10187.200000</td>\n",
       "      <td>2241.848801</td>\n",
       "      <td>10192.000000</td>\n",
       "    </tr>\n",
       "    <tr>\n",
       "      <th>max</th>\n",
       "      <td>125.800000</td>\n",
       "      <td>307.167273</td>\n",
       "      <td>12898.400000</td>\n",
       "      <td>40721.933293</td>\n",
       "      <td>540.000000</td>\n",
       "      <td>202.385770</td>\n",
       "      <td>640.000000</td>\n",
       "      <td>64913.500000</td>\n",
       "      <td>26908.532303</td>\n",
       "      <td>64913.000000</td>\n",
       "    </tr>\n",
       "  </tbody>\n",
       "</table>\n",
       "</div>"
      ],
      "text/plain": [
       "            fps_mean        fps_std       rtt_mean        rtt_std  \\\n",
       "count  379021.000000  379021.000000  379021.000000  379021.000000   \n",
       "mean       35.231127       1.725705      49.623858      12.763672   \n",
       "std        10.975010       2.505942      94.781098     112.684460   \n",
       "min        10.000000       0.000000       0.000000       0.000000   \n",
       "25%        28.800000       0.316228      14.300000       0.699206   \n",
       "50%        30.000000       0.942809      32.200000       1.433721   \n",
       "75%        43.600000       2.233582      55.900000       4.948625   \n",
       "max       125.800000     307.167273   12898.400000   40721.933293   \n",
       "\n",
       "       dropped_frames_mean  dropped_frames_std  dropped_frames_max  \\\n",
       "count        379021.000000       379021.000000       379021.000000   \n",
       "mean              0.180451            0.469548            1.450719   \n",
       "std               1.732890            3.157866            9.670928   \n",
       "min               0.000000            0.000000            0.000000   \n",
       "25%               0.000000            0.000000            0.000000   \n",
       "50%               0.000000            0.000000            0.000000   \n",
       "75%               0.000000            0.000000            0.000000   \n",
       "max             540.000000          202.385770          640.000000   \n",
       "\n",
       "        bitrate_mean    bitrate_std         target  \n",
       "count  379021.000000  379021.000000  379021.000000  \n",
       "mean     7516.585502    1603.487501    7525.396231  \n",
       "std      6073.992189    1721.021623    6070.817736  \n",
       "min         0.000000       0.000000       0.000000  \n",
       "25%      2773.300000     383.683550    2785.000000  \n",
       "50%      6287.200000    1112.710010    6296.000000  \n",
       "75%     10187.200000    2241.848801   10192.000000  \n",
       "max     64913.500000   26908.532303   64913.000000  "
      ]
     },
     "execution_count": 6,
     "metadata": {},
     "output_type": "execute_result"
    }
   ],
   "source": [
    "bitrate_train.describe()"
   ]
  },
  {
   "cell_type": "markdown",
   "metadata": {},
   "source": [
    "## Empty values"
   ]
  },
  {
   "cell_type": "code",
   "execution_count": 7,
   "metadata": {},
   "outputs": [
    {
     "data": {
      "text/plain": [
       "fps_mean               0\n",
       "fps_std                0\n",
       "rtt_mean               0\n",
       "rtt_std                0\n",
       "dropped_frames_mean    0\n",
       "dropped_frames_std     0\n",
       "dropped_frames_max     0\n",
       "bitrate_mean           0\n",
       "bitrate_std            0\n",
       "target                 0\n",
       "dtype: int64"
      ]
     },
     "execution_count": 7,
     "metadata": {},
     "output_type": "execute_result"
    }
   ],
   "source": [
    "bitrate_train.isna().sum()"
   ]
  },
  {
   "cell_type": "markdown",
   "metadata": {},
   "source": [
    "There is 0 nan values exist."
   ]
  },
  {
   "cell_type": "markdown",
   "metadata": {},
   "source": [
    "## Data distribution\n",
    "Also in this section I will remove outliers   "
   ]
  },
  {
   "cell_type": "code",
   "execution_count": 8,
   "metadata": {},
   "outputs": [
    {
     "data": {
      "text/plain": [
       "<AxesSubplot:>"
      ]
     },
     "execution_count": 8,
     "metadata": {},
     "output_type": "execute_result"
    },
    {
     "data": {
      "image/png": "[encoded data removed]",
      "text/plain": [
       "<Figure size 432x288 with 1 Axes>"
      ]
     },
     "metadata": {
      "needs_background": "light"
     },
     "output_type": "display_data"
    }
   ],
   "source": [
    "bitrate_train.boxplot(column='fps_mean')"
   ]
  },
  {
   "cell_type": "code",
   "execution_count": 9,
   "metadata": {},
   "outputs": [
    {
     "data": {
      "text/plain": [
       "(378990, 10)"
      ]
     },
     "execution_count": 9,
     "metadata": {},
     "output_type": "execute_result"
    }
   ],
   "source": [
    "bitrate_train = bitrate_train[bitrate_train['fps_mean'] < 65]\n",
    "bitrate_train.shape"
   ]
  },
  {
   "cell_type": "code",
   "execution_count": 10,
   "metadata": {},
   "outputs": [
    {
     "data": {
      "text/plain": [
       "<AxesSubplot:>"
      ]
     },
     "execution_count": 10,
     "metadata": {},
     "output_type": "execute_result"
    },
    {
     "data": {
      "image/png": "[encoded data removed]",
      "text/plain": [
       "<Figure size 640x480 with 1 Axes>"
      ]
     },
     "metadata": {},
     "output_type": "display_data"
    }
   ],
   "source": [
    "bitrate_train.boxplot(column='fps_std')"
   ]
  },
  {
   "cell_type": "code",
   "execution_count": 11,
   "metadata": {},
   "outputs": [
    {
     "data": {
      "text/plain": [
       "(378969, 10)"
      ]
     },
     "execution_count": 11,
     "metadata": {},
     "output_type": "execute_result"
    }
   ],
   "source": [
    "bitrate_train = bitrate_train[bitrate_train['fps_std'] < 40.0]\n",
    "bitrate_train.shape"
   ]
  },
  {
   "cell_type": "code",
   "execution_count": 12,
   "metadata": {},
   "outputs": [
    {
     "data": {
      "text/plain": [
       "<AxesSubplot:>"
      ]
     },
     "execution_count": 12,
     "metadata": {},
     "output_type": "execute_result"
    },
    {
     "data": {
      "image/png": "[encoded data removed]",
      "text/plain": [
       "<Figure size 640x480 with 1 Axes>"
      ]
     },
     "metadata": {},
     "output_type": "display_data"
    }
   ],
   "source": [
    "bitrate_train.boxplot(column='rtt_std')"
   ]
  },
  {
   "cell_type": "code",
   "execution_count": 13,
   "metadata": {},
   "outputs": [
    {
     "data": {
      "text/plain": [
       "(377525, 10)"
      ]
     },
     "execution_count": 13,
     "metadata": {},
     "output_type": "execute_result"
    }
   ],
   "source": [
    "bitrate_train = bitrate_train[bitrate_train['rtt_std'] < 500]\n",
    "bitrate_train.shape"
   ]
  },
  {
   "cell_type": "code",
   "execution_count": 14,
   "metadata": {},
   "outputs": [
    {
     "data": {
      "text/plain": [
       "<AxesSubplot:>"
      ]
     },
     "execution_count": 14,
     "metadata": {},
     "output_type": "execute_result"
    },
    {
     "data": {
      "image/png": "[encoded data removed]",
      "text/plain": [
       "<Figure size 640x480 with 1 Axes>"
      ]
     },
     "metadata": {},
     "output_type": "display_data"
    }
   ],
   "source": [
    "bitrate_train.boxplot(column='dropped_frames_mean')"
   ]
  },
  {
   "cell_type": "code",
   "execution_count": 15,
   "metadata": {},
   "outputs": [
    {
     "data": {
      "text/plain": [
       "(377522, 10)"
      ]
     },
     "execution_count": 15,
     "metadata": {},
     "output_type": "execute_result"
    }
   ],
   "source": [
    "bitrate_train = bitrate_train[bitrate_train['dropped_frames_mean'] < 100]\n",
    "bitrate_train.shape"
   ]
  },
  {
   "cell_type": "code",
   "execution_count": 16,
   "metadata": {},
   "outputs": [
    {
     "data": {
      "text/plain": [
       "<AxesSubplot:>"
      ]
     },
     "execution_count": 16,
     "metadata": {},
     "output_type": "execute_result"
    },
    {
     "data": {
      "image/png": "[encoded data removed]",
      "text/plain": [
       "<Figure size 640x480 with 1 Axes>"
      ]
     },
     "metadata": {},
     "output_type": "display_data"
    }
   ],
   "source": [
    "bitrate_train.boxplot(column='dropped_frames_std')"
   ]
  },
  {
   "cell_type": "code",
   "execution_count": 17,
   "metadata": {},
   "outputs": [
    {
     "data": {
      "text/plain": [
       "(377520, 10)"
      ]
     },
     "execution_count": 17,
     "metadata": {},
     "output_type": "execute_result"
    }
   ],
   "source": [
    "bitrate_train = bitrate_train[bitrate_train['dropped_frames_std'] < 75]\n",
    "bitrate_train.shape"
   ]
  },
  {
   "cell_type": "code",
   "execution_count": 18,
   "metadata": {},
   "outputs": [
    {
     "data": {
      "text/plain": [
       "<AxesSubplot:>"
      ]
     },
     "execution_count": 18,
     "metadata": {},
     "output_type": "execute_result"
    },
    {
     "data": {
      "image/png": "[encoded data removed]",
      "text/plain": [
       "<Figure size 640x480 with 1 Axes>"
      ]
     },
     "metadata": {},
     "output_type": "display_data"
    }
   ],
   "source": [
    "bitrate_train.boxplot(column='dropped_frames_max')"
   ]
  },
  {
   "cell_type": "code",
   "execution_count": 19,
   "metadata": {},
   "outputs": [
    {
     "data": {
      "text/plain": [
       "(376327, 10)"
      ]
     },
     "execution_count": 19,
     "metadata": {},
     "output_type": "execute_result"
    }
   ],
   "source": [
    "bitrate_train = bitrate_train[bitrate_train['dropped_frames_max'] < 75]\n",
    "bitrate_train.shape"
   ]
  },
  {
   "cell_type": "code",
   "execution_count": 20,
   "metadata": {},
   "outputs": [
    {
     "data": {
      "text/plain": [
       "<AxesSubplot:>"
      ]
     },
     "execution_count": 20,
     "metadata": {},
     "output_type": "execute_result"
    },
    {
     "data": {
      "image/png": "[encoded data removed]",
      "text/plain": [
       "<Figure size 640x480 with 1 Axes>"
      ]
     },
     "metadata": {},
     "output_type": "display_data"
    }
   ],
   "source": [
    "bitrate_train.boxplot(column='rtt_std')"
   ]
  },
  {
   "cell_type": "code",
   "execution_count": 21,
   "metadata": {},
   "outputs": [
    {
     "data": {
      "text/plain": [
       "(375470, 10)"
      ]
     },
     "execution_count": 21,
     "metadata": {},
     "output_type": "execute_result"
    }
   ],
   "source": [
    "bitrate_train = bitrate_train[bitrate_train['rtt_std'] < 300]\n",
    "bitrate_train.shape"
   ]
  },
  {
   "cell_type": "code",
   "execution_count": 22,
   "metadata": {},
   "outputs": [
    {
     "data": {
      "text/plain": [
       "<AxesSubplot:>"
      ]
     },
     "execution_count": 22,
     "metadata": {},
     "output_type": "execute_result"
    },
    {
     "data": {
      "image/png": "[encoded data removed]",
      "text/plain": [
       "<Figure size 640x480 with 1 Axes>"
      ]
     },
     "metadata": {},
     "output_type": "display_data"
    }
   ],
   "source": [
    "bitrate_train.boxplot(column='bitrate_mean')"
   ]
  },
  {
   "cell_type": "code",
   "execution_count": 23,
   "metadata": {},
   "outputs": [
    {
     "data": {
      "text/plain": [
       "(374628, 10)"
      ]
     },
     "execution_count": 23,
     "metadata": {},
     "output_type": "execute_result"
    }
   ],
   "source": [
    "bitrate_train = bitrate_train[bitrate_train['bitrate_mean'] < 30000]\n",
    "bitrate_train.shape"
   ]
  },
  {
   "cell_type": "code",
   "execution_count": 24,
   "metadata": {},
   "outputs": [
    {
     "data": {
      "text/plain": [
       "<AxesSubplot:>"
      ]
     },
     "execution_count": 24,
     "metadata": {},
     "output_type": "execute_result"
    },
    {
     "data": {
      "image/png": "[encoded data removed]",
      "text/plain": [
       "<Figure size 640x480 with 1 Axes>"
      ]
     },
     "metadata": {},
     "output_type": "display_data"
    }
   ],
   "source": [
    "bitrate_train.boxplot(column='bitrate_std')"
   ]
  },
  {
   "cell_type": "code",
   "execution_count": 25,
   "metadata": {},
   "outputs": [
    {
     "data": {
      "text/plain": [
       "(373656, 10)"
      ]
     },
     "execution_count": 25,
     "metadata": {},
     "output_type": "execute_result"
    }
   ],
   "source": [
    "bitrate_train = bitrate_train[bitrate_train['bitrate_std'] < 10000]\n",
    "bitrate_train.shape"
   ]
  },
  {
   "cell_type": "markdown",
   "metadata": {},
   "source": [
    "## Feature selection"
   ]
  },
  {
   "cell_type": "code",
   "execution_count": 26,
   "metadata": {},
   "outputs": [],
   "source": [
    "def select_features(X_train, y_train):\n",
    "\tfs = SelectKBest(score_func=f_regression, k='all')\n",
    "\tfs.fit(X_train, y_train)\n",
    "\treturn fs"
   ]
  },
  {
   "cell_type": "code",
   "execution_count": 27,
   "metadata": {},
   "outputs": [],
   "source": [
    "X_reg = bitrate_train[\n",
    "    [\n",
    "        \"fps_mean\",\n",
    "        \"fps_std\",\n",
    "        \"rtt_mean\",\n",
    "        \"rtt_std\",\n",
    "        \"dropped_frames_mean\",\n",
    "        \"dropped_frames_std\",\n",
    "        \"dropped_frames_max\",\n",
    "        \"bitrate_mean\",\n",
    "        \"bitrate_std\",\n",
    "    ]\n",
    "]\n",
    "y_reg = bitrate_train[[\"target\"]]"
   ]
  },
  {
   "cell_type": "code",
   "execution_count": 60,
   "metadata": {},
   "outputs": [
    {
     "name": "stdout",
     "output_type": "stream",
     "text": [
      "Feature 0: 14878.903591\n",
      "Feature 1: 2252.217617\n",
      "Feature 2: 9625.186227\n",
      "Feature 3: 2449.224703\n",
      "Feature 4: 783.952356\n",
      "Feature 5: 1200.114948\n",
      "Feature 6: 1258.057966\n",
      "Feature 7: 3201804.694086\n",
      "Feature 8: 132931.940100\n"
     ]
    },
    {
     "name": "stderr",
     "output_type": "stream",
     "text": [
      "/opt/homebrew/Caskroom/miniforge/base/envs/ds/lib/python3.10/site-packages/sklearn/utils/validation.py:1111: DataConversionWarning: A column-vector y was passed when a 1d array was expected. Please change the shape of y to (n_samples, ), for example using ravel().\n",
      "  y = column_or_1d(y, warn=True)\n"
     ]
    },
    {
     "data": {
      "image/png": "[encoded data removed]",
      "text/plain": [
       "<Figure size 640x480 with 1 Axes>"
      ]
     },
     "metadata": {},
     "output_type": "display_data"
    }
   ],
   "source": [
    "fs = select_features(X_reg, y_reg)\n",
    "\n",
    "for i in range(len(fs.scores_)):\n",
    "\tprint('Feature %d: %f' % (i, fs.scores_[i]))\n",
    "# plot the scores\n",
    "plt.title('Regression task')\n",
    "plt.xlabel('Feature number')\n",
    "plt.ylabel(\"Pearson's correlation\")\n",
    "plt.bar([i for i in range(len(fs.scores_))], fs.scores_)\n",
    "plt.show()"
   ]
  },
  {
   "cell_type": "markdown",
   "metadata": {},
   "source": [
    "## Classification data"
   ]
  },
  {
   "cell_type": "code",
   "execution_count": 30,
   "metadata": {},
   "outputs": [
    {
     "data": {
      "text/html": [
       "<div>\n",
       "<style scoped>\n",
       "    .dataframe tbody tr th:only-of-type {\n",
       "        vertical-align: middle;\n",
       "    }\n",
       "\n",
       "    .dataframe tbody tr th {\n",
       "        vertical-align: top;\n",
       "    }\n",
       "\n",
       "    .dataframe thead th {\n",
       "        text-align: right;\n",
       "    }\n",
       "</style>\n",
       "<table border=\"1\" class=\"dataframe\">\n",
       "  <thead>\n",
       "    <tr style=\"text-align: right;\">\n",
       "      <th></th>\n",
       "      <th>fps_mean</th>\n",
       "      <th>fps_std</th>\n",
       "      <th>fps_lags</th>\n",
       "      <th>rtt_mean</th>\n",
       "      <th>rtt_std</th>\n",
       "      <th>dropped_frames_mean</th>\n",
       "      <th>dropped_frames_std</th>\n",
       "      <th>dropped_frames_max</th>\n",
       "      <th>auto_bitrate_state</th>\n",
       "      <th>auto_fec_state</th>\n",
       "      <th>auto_fec_mean</th>\n",
       "      <th>stream_quality</th>\n",
       "    </tr>\n",
       "  </thead>\n",
       "  <tbody>\n",
       "    <tr>\n",
       "      <th>0</th>\n",
       "      <td>24.4</td>\n",
       "      <td>0.516398</td>\n",
       "      <td>0</td>\n",
       "      <td>91.1</td>\n",
       "      <td>6.723921</td>\n",
       "      <td>0.0</td>\n",
       "      <td>0.0</td>\n",
       "      <td>0.0</td>\n",
       "      <td>off</td>\n",
       "      <td>partial</td>\n",
       "      <td>50.0</td>\n",
       "      <td>0</td>\n",
       "    </tr>\n",
       "    <tr>\n",
       "      <th>1</th>\n",
       "      <td>28.6</td>\n",
       "      <td>2.065591</td>\n",
       "      <td>0</td>\n",
       "      <td>99.7</td>\n",
       "      <td>15.923777</td>\n",
       "      <td>0.0</td>\n",
       "      <td>0.0</td>\n",
       "      <td>0.0</td>\n",
       "      <td>off</td>\n",
       "      <td>partial</td>\n",
       "      <td>50.0</td>\n",
       "      <td>0</td>\n",
       "    </tr>\n",
       "    <tr>\n",
       "      <th>2</th>\n",
       "      <td>30.0</td>\n",
       "      <td>0.000000</td>\n",
       "      <td>0</td>\n",
       "      <td>98.1</td>\n",
       "      <td>11.798776</td>\n",
       "      <td>0.0</td>\n",
       "      <td>0.0</td>\n",
       "      <td>0.0</td>\n",
       "      <td>off</td>\n",
       "      <td>partial</td>\n",
       "      <td>50.0</td>\n",
       "      <td>0</td>\n",
       "    </tr>\n",
       "    <tr>\n",
       "      <th>3</th>\n",
       "      <td>30.3</td>\n",
       "      <td>0.948683</td>\n",
       "      <td>0</td>\n",
       "      <td>99.4</td>\n",
       "      <td>13.014522</td>\n",
       "      <td>0.0</td>\n",
       "      <td>0.0</td>\n",
       "      <td>0.0</td>\n",
       "      <td>off</td>\n",
       "      <td>partial</td>\n",
       "      <td>50.0</td>\n",
       "      <td>0</td>\n",
       "    </tr>\n",
       "    <tr>\n",
       "      <th>4</th>\n",
       "      <td>29.9</td>\n",
       "      <td>0.316228</td>\n",
       "      <td>0</td>\n",
       "      <td>123.2</td>\n",
       "      <td>62.476307</td>\n",
       "      <td>0.0</td>\n",
       "      <td>0.0</td>\n",
       "      <td>0.0</td>\n",
       "      <td>off</td>\n",
       "      <td>partial</td>\n",
       "      <td>50.0</td>\n",
       "      <td>0</td>\n",
       "    </tr>\n",
       "    <tr>\n",
       "      <th>...</th>\n",
       "      <td>...</td>\n",
       "      <td>...</td>\n",
       "      <td>...</td>\n",
       "      <td>...</td>\n",
       "      <td>...</td>\n",
       "      <td>...</td>\n",
       "      <td>...</td>\n",
       "      <td>...</td>\n",
       "      <td>...</td>\n",
       "      <td>...</td>\n",
       "      <td>...</td>\n",
       "      <td>...</td>\n",
       "    </tr>\n",
       "    <tr>\n",
       "      <th>406567</th>\n",
       "      <td>40.0</td>\n",
       "      <td>0.000000</td>\n",
       "      <td>0</td>\n",
       "      <td>0.0</td>\n",
       "      <td>0.000000</td>\n",
       "      <td>0.0</td>\n",
       "      <td>0.0</td>\n",
       "      <td>0.0</td>\n",
       "      <td>full</td>\n",
       "      <td>partial</td>\n",
       "      <td>50.0</td>\n",
       "      <td>0</td>\n",
       "    </tr>\n",
       "    <tr>\n",
       "      <th>406568</th>\n",
       "      <td>40.0</td>\n",
       "      <td>0.000000</td>\n",
       "      <td>0</td>\n",
       "      <td>0.0</td>\n",
       "      <td>0.000000</td>\n",
       "      <td>0.0</td>\n",
       "      <td>0.0</td>\n",
       "      <td>0.0</td>\n",
       "      <td>full</td>\n",
       "      <td>partial</td>\n",
       "      <td>50.0</td>\n",
       "      <td>0</td>\n",
       "    </tr>\n",
       "    <tr>\n",
       "      <th>406569</th>\n",
       "      <td>40.0</td>\n",
       "      <td>0.000000</td>\n",
       "      <td>0</td>\n",
       "      <td>0.0</td>\n",
       "      <td>0.000000</td>\n",
       "      <td>0.0</td>\n",
       "      <td>0.0</td>\n",
       "      <td>0.0</td>\n",
       "      <td>full</td>\n",
       "      <td>partial</td>\n",
       "      <td>50.0</td>\n",
       "      <td>0</td>\n",
       "    </tr>\n",
       "    <tr>\n",
       "      <th>406570</th>\n",
       "      <td>40.0</td>\n",
       "      <td>0.000000</td>\n",
       "      <td>0</td>\n",
       "      <td>0.0</td>\n",
       "      <td>0.000000</td>\n",
       "      <td>0.0</td>\n",
       "      <td>0.0</td>\n",
       "      <td>0.0</td>\n",
       "      <td>full</td>\n",
       "      <td>partial</td>\n",
       "      <td>50.0</td>\n",
       "      <td>0</td>\n",
       "    </tr>\n",
       "    <tr>\n",
       "      <th>406571</th>\n",
       "      <td>40.0</td>\n",
       "      <td>0.000000</td>\n",
       "      <td>0</td>\n",
       "      <td>0.0</td>\n",
       "      <td>0.000000</td>\n",
       "      <td>0.0</td>\n",
       "      <td>0.0</td>\n",
       "      <td>0.0</td>\n",
       "      <td>full</td>\n",
       "      <td>partial</td>\n",
       "      <td>50.0</td>\n",
       "      <td>0</td>\n",
       "    </tr>\n",
       "  </tbody>\n",
       "</table>\n",
       "<p>406572 rows × 12 columns</p>\n",
       "</div>"
      ],
      "text/plain": [
       "        fps_mean   fps_std  fps_lags  rtt_mean    rtt_std  \\\n",
       "0           24.4  0.516398         0      91.1   6.723921   \n",
       "1           28.6  2.065591         0      99.7  15.923777   \n",
       "2           30.0  0.000000         0      98.1  11.798776   \n",
       "3           30.3  0.948683         0      99.4  13.014522   \n",
       "4           29.9  0.316228         0     123.2  62.476307   \n",
       "...          ...       ...       ...       ...        ...   \n",
       "406567      40.0  0.000000         0       0.0   0.000000   \n",
       "406568      40.0  0.000000         0       0.0   0.000000   \n",
       "406569      40.0  0.000000         0       0.0   0.000000   \n",
       "406570      40.0  0.000000         0       0.0   0.000000   \n",
       "406571      40.0  0.000000         0       0.0   0.000000   \n",
       "\n",
       "        dropped_frames_mean  dropped_frames_std  dropped_frames_max  \\\n",
       "0                       0.0                 0.0                 0.0   \n",
       "1                       0.0                 0.0                 0.0   \n",
       "2                       0.0                 0.0                 0.0   \n",
       "3                       0.0                 0.0                 0.0   \n",
       "4                       0.0                 0.0                 0.0   \n",
       "...                     ...                 ...                 ...   \n",
       "406567                  0.0                 0.0                 0.0   \n",
       "406568                  0.0                 0.0                 0.0   \n",
       "406569                  0.0                 0.0                 0.0   \n",
       "406570                  0.0                 0.0                 0.0   \n",
       "406571                  0.0                 0.0                 0.0   \n",
       "\n",
       "       auto_bitrate_state auto_fec_state  auto_fec_mean  stream_quality  \n",
       "0                     off        partial           50.0               0  \n",
       "1                     off        partial           50.0               0  \n",
       "2                     off        partial           50.0               0  \n",
       "3                     off        partial           50.0               0  \n",
       "4                     off        partial           50.0               0  \n",
       "...                   ...            ...            ...             ...  \n",
       "406567               full        partial           50.0               0  \n",
       "406568               full        partial           50.0               0  \n",
       "406569               full        partial           50.0               0  \n",
       "406570               full        partial           50.0               0  \n",
       "406571               full        partial           50.0               0  \n",
       "\n",
       "[406572 rows x 12 columns]"
      ]
     },
     "execution_count": 30,
     "metadata": {},
     "output_type": "execute_result"
    }
   ],
   "source": [
    "stream_quality_train"
   ]
  },
  {
   "cell_type": "code",
   "execution_count": 31,
   "metadata": {},
   "outputs": [
    {
     "data": {
      "text/html": [
       "<div>\n",
       "<style scoped>\n",
       "    .dataframe tbody tr th:only-of-type {\n",
       "        vertical-align: middle;\n",
       "    }\n",
       "\n",
       "    .dataframe tbody tr th {\n",
       "        vertical-align: top;\n",
       "    }\n",
       "\n",
       "    .dataframe thead th {\n",
       "        text-align: right;\n",
       "    }\n",
       "</style>\n",
       "<table border=\"1\" class=\"dataframe\">\n",
       "  <thead>\n",
       "    <tr style=\"text-align: right;\">\n",
       "      <th></th>\n",
       "      <th>fps_mean</th>\n",
       "      <th>fps_std</th>\n",
       "      <th>fps_lags</th>\n",
       "      <th>rtt_mean</th>\n",
       "      <th>rtt_std</th>\n",
       "      <th>dropped_frames_mean</th>\n",
       "      <th>dropped_frames_std</th>\n",
       "      <th>dropped_frames_max</th>\n",
       "      <th>auto_fec_mean</th>\n",
       "      <th>stream_quality</th>\n",
       "    </tr>\n",
       "  </thead>\n",
       "  <tbody>\n",
       "    <tr>\n",
       "      <th>count</th>\n",
       "      <td>406572.000000</td>\n",
       "      <td>406572.000000</td>\n",
       "      <td>406572.000000</td>\n",
       "      <td>406572.000000</td>\n",
       "      <td>406572.000000</td>\n",
       "      <td>4.065720e+05</td>\n",
       "      <td>4.065720e+05</td>\n",
       "      <td>4.065720e+05</td>\n",
       "      <td>406572.000000</td>\n",
       "      <td>406572.000000</td>\n",
       "    </tr>\n",
       "    <tr>\n",
       "      <th>mean</th>\n",
       "      <td>34.497561</td>\n",
       "      <td>2.285486</td>\n",
       "      <td>0.183151</td>\n",
       "      <td>54.314400</td>\n",
       "      <td>19.525019</td>\n",
       "      <td>1.730432e+06</td>\n",
       "      <td>1.378279e+05</td>\n",
       "      <td>1.893339e+06</td>\n",
       "      <td>51.413536</td>\n",
       "      <td>0.068460</td>\n",
       "    </tr>\n",
       "    <tr>\n",
       "      <th>std</th>\n",
       "      <td>11.625494</td>\n",
       "      <td>3.708531</td>\n",
       "      <td>1.099384</td>\n",
       "      <td>133.872062</td>\n",
       "      <td>156.364337</td>\n",
       "      <td>4.930091e+07</td>\n",
       "      <td>9.229776e+06</td>\n",
       "      <td>5.241003e+07</td>\n",
       "      <td>34.836045</td>\n",
       "      <td>0.252534</td>\n",
       "    </tr>\n",
       "    <tr>\n",
       "      <th>min</th>\n",
       "      <td>0.000000</td>\n",
       "      <td>0.000000</td>\n",
       "      <td>0.000000</td>\n",
       "      <td>0.000000</td>\n",
       "      <td>0.000000</td>\n",
       "      <td>0.000000e+00</td>\n",
       "      <td>0.000000e+00</td>\n",
       "      <td>0.000000e+00</td>\n",
       "      <td>0.000000</td>\n",
       "      <td>0.000000</td>\n",
       "    </tr>\n",
       "    <tr>\n",
       "      <th>25%</th>\n",
       "      <td>28.300000</td>\n",
       "      <td>0.316228</td>\n",
       "      <td>0.000000</td>\n",
       "      <td>14.100000</td>\n",
       "      <td>0.699206</td>\n",
       "      <td>0.000000e+00</td>\n",
       "      <td>0.000000e+00</td>\n",
       "      <td>0.000000e+00</td>\n",
       "      <td>50.000000</td>\n",
       "      <td>0.000000</td>\n",
       "    </tr>\n",
       "    <tr>\n",
       "      <th>50%</th>\n",
       "      <td>30.000000</td>\n",
       "      <td>0.994429</td>\n",
       "      <td>0.000000</td>\n",
       "      <td>32.300000</td>\n",
       "      <td>1.490712</td>\n",
       "      <td>0.000000e+00</td>\n",
       "      <td>0.000000e+00</td>\n",
       "      <td>0.000000e+00</td>\n",
       "      <td>50.000000</td>\n",
       "      <td>0.000000</td>\n",
       "    </tr>\n",
       "    <tr>\n",
       "      <th>75%</th>\n",
       "      <td>43.000000</td>\n",
       "      <td>2.590581</td>\n",
       "      <td>0.000000</td>\n",
       "      <td>57.100000</td>\n",
       "      <td>5.334375</td>\n",
       "      <td>0.000000e+00</td>\n",
       "      <td>0.000000e+00</td>\n",
       "      <td>0.000000e+00</td>\n",
       "      <td>50.000000</td>\n",
       "      <td>0.000000</td>\n",
       "    </tr>\n",
       "    <tr>\n",
       "      <th>max</th>\n",
       "      <td>127.100000</td>\n",
       "      <td>312.540842</td>\n",
       "      <td>10.000000</td>\n",
       "      <td>12898.400000</td>\n",
       "      <td>40721.933293</td>\n",
       "      <td>2.097289e+09</td>\n",
       "      <td>9.963751e+08</td>\n",
       "      <td>2.097289e+09</td>\n",
       "      <td>250.000000</td>\n",
       "      <td>1.000000</td>\n",
       "    </tr>\n",
       "  </tbody>\n",
       "</table>\n",
       "</div>"
      ],
      "text/plain": [
       "            fps_mean        fps_std       fps_lags       rtt_mean  \\\n",
       "count  406572.000000  406572.000000  406572.000000  406572.000000   \n",
       "mean       34.497561       2.285486       0.183151      54.314400   \n",
       "std        11.625494       3.708531       1.099384     133.872062   \n",
       "min         0.000000       0.000000       0.000000       0.000000   \n",
       "25%        28.300000       0.316228       0.000000      14.100000   \n",
       "50%        30.000000       0.994429       0.000000      32.300000   \n",
       "75%        43.000000       2.590581       0.000000      57.100000   \n",
       "max       127.100000     312.540842      10.000000   12898.400000   \n",
       "\n",
       "             rtt_std  dropped_frames_mean  dropped_frames_std  \\\n",
       "count  406572.000000         4.065720e+05        4.065720e+05   \n",
       "mean       19.525019         1.730432e+06        1.378279e+05   \n",
       "std       156.364337         4.930091e+07        9.229776e+06   \n",
       "min         0.000000         0.000000e+00        0.000000e+00   \n",
       "25%         0.699206         0.000000e+00        0.000000e+00   \n",
       "50%         1.490712         0.000000e+00        0.000000e+00   \n",
       "75%         5.334375         0.000000e+00        0.000000e+00   \n",
       "max     40721.933293         2.097289e+09        9.963751e+08   \n",
       "\n",
       "       dropped_frames_max  auto_fec_mean  stream_quality  \n",
       "count        4.065720e+05  406572.000000   406572.000000  \n",
       "mean         1.893339e+06      51.413536        0.068460  \n",
       "std          5.241003e+07      34.836045        0.252534  \n",
       "min          0.000000e+00       0.000000        0.000000  \n",
       "25%          0.000000e+00      50.000000        0.000000  \n",
       "50%          0.000000e+00      50.000000        0.000000  \n",
       "75%          0.000000e+00      50.000000        0.000000  \n",
       "max          2.097289e+09     250.000000        1.000000  "
      ]
     },
     "execution_count": 31,
     "metadata": {},
     "output_type": "execute_result"
    }
   ],
   "source": [
    "stream_quality_train.describe()"
   ]
  },
  {
   "cell_type": "markdown",
   "metadata": {},
   "source": [
    "There is no Nan values"
   ]
  },
  {
   "cell_type": "code",
   "execution_count": 32,
   "metadata": {},
   "outputs": [
    {
     "data": {
      "text/plain": [
       "fps_mean               0\n",
       "fps_std                0\n",
       "fps_lags               0\n",
       "rtt_mean               0\n",
       "rtt_std                0\n",
       "dropped_frames_mean    0\n",
       "dropped_frames_std     0\n",
       "dropped_frames_max     0\n",
       "auto_bitrate_state     0\n",
       "auto_fec_state         0\n",
       "auto_fec_mean          0\n",
       "stream_quality         0\n",
       "dtype: int64"
      ]
     },
     "execution_count": 32,
     "metadata": {},
     "output_type": "execute_result"
    }
   ],
   "source": [
    "stream_quality_train.isna().sum()"
   ]
  },
  {
   "cell_type": "code",
   "execution_count": 33,
   "metadata": {},
   "outputs": [
    {
     "data": {
      "text/plain": [
       "<AxesSubplot:>"
      ]
     },
     "execution_count": 33,
     "metadata": {},
     "output_type": "execute_result"
    },
    {
     "data": {
      "image/png": "[encoded data removed]",
      "text/plain": [
       "<Figure size 640x480 with 1 Axes>"
      ]
     },
     "metadata": {},
     "output_type": "display_data"
    }
   ],
   "source": [
    "stream_quality_train.boxplot(column='fps_mean')"
   ]
  },
  {
   "cell_type": "code",
   "execution_count": 34,
   "metadata": {},
   "outputs": [
    {
     "data": {
      "text/plain": [
       "(406562, 12)"
      ]
     },
     "execution_count": 34,
     "metadata": {},
     "output_type": "execute_result"
    }
   ],
   "source": [
    "stream_quality_train = stream_quality_train[stream_quality_train['fps_mean'] < 80]\n",
    "stream_quality_train.shape"
   ]
  },
  {
   "cell_type": "code",
   "execution_count": 35,
   "metadata": {},
   "outputs": [
    {
     "data": {
      "text/plain": [
       "<AxesSubplot:>"
      ]
     },
     "execution_count": 35,
     "metadata": {},
     "output_type": "execute_result"
    },
    {
     "data": {
      "image/png": "[encoded data removed]",
      "text/plain": [
       "<Figure size 640x480 with 1 Axes>"
      ]
     },
     "metadata": {},
     "output_type": "display_data"
    }
   ],
   "source": [
    "stream_quality_train.boxplot(column='fps_std')"
   ]
  },
  {
   "cell_type": "code",
   "execution_count": 36,
   "metadata": {},
   "outputs": [
    {
     "data": {
      "text/plain": [
       "(406545, 12)"
      ]
     },
     "execution_count": 36,
     "metadata": {},
     "output_type": "execute_result"
    }
   ],
   "source": [
    "stream_quality_train = stream_quality_train[stream_quality_train['fps_std'] < 60]\n",
    "stream_quality_train.shape"
   ]
  },
  {
   "cell_type": "code",
   "execution_count": 37,
   "metadata": {},
   "outputs": [
    {
     "data": {
      "text/plain": [
       "<AxesSubplot:>"
      ]
     },
     "execution_count": 37,
     "metadata": {},
     "output_type": "execute_result"
    },
    {
     "data": {
      "image/png": "[encoded data removed]",
      "text/plain": [
       "<Figure size 640x480 with 1 Axes>"
      ]
     },
     "metadata": {},
     "output_type": "display_data"
    }
   ],
   "source": [
    "stream_quality_train.boxplot(column='fps_lags')"
   ]
  },
  {
   "cell_type": "code",
   "execution_count": 38,
   "metadata": {},
   "outputs": [
    {
     "data": {
      "text/plain": [
       "<AxesSubplot:>"
      ]
     },
     "execution_count": 38,
     "metadata": {},
     "output_type": "execute_result"
    },
    {
     "data": {
      "image/png": "[encoded data removed]",
      "text/plain": [
       "<Figure size 640x480 with 1 Axes>"
      ]
     },
     "metadata": {},
     "output_type": "display_data"
    }
   ],
   "source": [
    "stream_quality_train.boxplot(column='rtt_mean')"
   ]
  },
  {
   "cell_type": "code",
   "execution_count": 39,
   "metadata": {},
   "outputs": [
    {
     "data": {
      "text/plain": [
       "(406537, 12)"
      ]
     },
     "execution_count": 39,
     "metadata": {},
     "output_type": "execute_result"
    }
   ],
   "source": [
    "stream_quality_train = stream_quality_train[stream_quality_train['rtt_mean'] < 8000]\n",
    "stream_quality_train.shape"
   ]
  },
  {
   "cell_type": "code",
   "execution_count": 40,
   "metadata": {},
   "outputs": [
    {
     "data": {
      "text/plain": [
       "<AxesSubplot:>"
      ]
     },
     "execution_count": 40,
     "metadata": {},
     "output_type": "execute_result"
    },
    {
     "data": {
      "image/png": "[encoded data removed]",
      "text/plain": [
       "<Figure size 640x480 with 1 Axes>"
      ]
     },
     "metadata": {},
     "output_type": "display_data"
    }
   ],
   "source": [
    "stream_quality_train.boxplot(column='dropped_frames_mean')"
   ]
  },
  {
   "cell_type": "code",
   "execution_count": 41,
   "metadata": {},
   "outputs": [
    {
     "data": {
      "text/plain": [
       "off        330172\n",
       "full        75955\n",
       "partial       410\n",
       "Name: auto_bitrate_state, dtype: int64"
      ]
     },
     "execution_count": 41,
     "metadata": {},
     "output_type": "execute_result"
    }
   ],
   "source": [
    "stream_quality_train['auto_bitrate_state'].value_counts()"
   ]
  },
  {
   "cell_type": "code",
   "execution_count": 42,
   "metadata": {},
   "outputs": [
    {
     "data": {
      "text/html": [
       "<div>\n",
       "<style scoped>\n",
       "    .dataframe tbody tr th:only-of-type {\n",
       "        vertical-align: middle;\n",
       "    }\n",
       "\n",
       "    .dataframe tbody tr th {\n",
       "        vertical-align: top;\n",
       "    }\n",
       "\n",
       "    .dataframe thead th {\n",
       "        text-align: right;\n",
       "    }\n",
       "</style>\n",
       "<table border=\"1\" class=\"dataframe\">\n",
       "  <thead>\n",
       "    <tr style=\"text-align: right;\">\n",
       "      <th></th>\n",
       "      <th>bitrate_full</th>\n",
       "      <th>bitrate_off</th>\n",
       "      <th>bitrate_partial</th>\n",
       "    </tr>\n",
       "  </thead>\n",
       "  <tbody>\n",
       "    <tr>\n",
       "      <th>0</th>\n",
       "      <td>0.0</td>\n",
       "      <td>1.0</td>\n",
       "      <td>0.0</td>\n",
       "    </tr>\n",
       "    <tr>\n",
       "      <th>1</th>\n",
       "      <td>0.0</td>\n",
       "      <td>1.0</td>\n",
       "      <td>0.0</td>\n",
       "    </tr>\n",
       "    <tr>\n",
       "      <th>2</th>\n",
       "      <td>0.0</td>\n",
       "      <td>1.0</td>\n",
       "      <td>0.0</td>\n",
       "    </tr>\n",
       "    <tr>\n",
       "      <th>3</th>\n",
       "      <td>0.0</td>\n",
       "      <td>1.0</td>\n",
       "      <td>0.0</td>\n",
       "    </tr>\n",
       "    <tr>\n",
       "      <th>4</th>\n",
       "      <td>0.0</td>\n",
       "      <td>1.0</td>\n",
       "      <td>0.0</td>\n",
       "    </tr>\n",
       "    <tr>\n",
       "      <th>...</th>\n",
       "      <td>...</td>\n",
       "      <td>...</td>\n",
       "      <td>...</td>\n",
       "    </tr>\n",
       "    <tr>\n",
       "      <th>406532</th>\n",
       "      <td>1.0</td>\n",
       "      <td>0.0</td>\n",
       "      <td>0.0</td>\n",
       "    </tr>\n",
       "    <tr>\n",
       "      <th>406533</th>\n",
       "      <td>1.0</td>\n",
       "      <td>0.0</td>\n",
       "      <td>0.0</td>\n",
       "    </tr>\n",
       "    <tr>\n",
       "      <th>406534</th>\n",
       "      <td>1.0</td>\n",
       "      <td>0.0</td>\n",
       "      <td>0.0</td>\n",
       "    </tr>\n",
       "    <tr>\n",
       "      <th>406535</th>\n",
       "      <td>1.0</td>\n",
       "      <td>0.0</td>\n",
       "      <td>0.0</td>\n",
       "    </tr>\n",
       "    <tr>\n",
       "      <th>406536</th>\n",
       "      <td>1.0</td>\n",
       "      <td>0.0</td>\n",
       "      <td>0.0</td>\n",
       "    </tr>\n",
       "  </tbody>\n",
       "</table>\n",
       "<p>406537 rows × 3 columns</p>\n",
       "</div>"
      ],
      "text/plain": [
       "        bitrate_full  bitrate_off  bitrate_partial\n",
       "0                0.0          1.0              0.0\n",
       "1                0.0          1.0              0.0\n",
       "2                0.0          1.0              0.0\n",
       "3                0.0          1.0              0.0\n",
       "4                0.0          1.0              0.0\n",
       "...              ...          ...              ...\n",
       "406532           1.0          0.0              0.0\n",
       "406533           1.0          0.0              0.0\n",
       "406534           1.0          0.0              0.0\n",
       "406535           1.0          0.0              0.0\n",
       "406536           1.0          0.0              0.0\n",
       "\n",
       "[406537 rows x 3 columns]"
      ]
     },
     "execution_count": 42,
     "metadata": {},
     "output_type": "execute_result"
    }
   ],
   "source": [
    "bitrate_state_encoder = OneHotEncoder(handle_unknown='ignore', sparse=False)\n",
    "transformed = bitrate_state_encoder.fit_transform(stream_quality_train['auto_bitrate_state'].to_numpy().reshape(-1, 1))\n",
    "bitrate_state_df = pd.DataFrame(transformed, columns=[f'bitrate_{category}' for category in bitrate_state_encoder.categories_[0]])\n",
    "bitrate_state_df"
   ]
  },
  {
   "cell_type": "code",
   "execution_count": 43,
   "metadata": {},
   "outputs": [
    {
     "data": {
      "text/plain": [
       "partial    359271\n",
       "off         47266\n",
       "Name: auto_fec_state, dtype: int64"
      ]
     },
     "execution_count": 43,
     "metadata": {},
     "output_type": "execute_result"
    }
   ],
   "source": [
    "stream_quality_train['auto_fec_state'].value_counts()"
   ]
  },
  {
   "cell_type": "code",
   "execution_count": 44,
   "metadata": {},
   "outputs": [
    {
     "data": {
      "text/html": [
       "<div>\n",
       "<style scoped>\n",
       "    .dataframe tbody tr th:only-of-type {\n",
       "        vertical-align: middle;\n",
       "    }\n",
       "\n",
       "    .dataframe tbody tr th {\n",
       "        vertical-align: top;\n",
       "    }\n",
       "\n",
       "    .dataframe thead th {\n",
       "        text-align: right;\n",
       "    }\n",
       "</style>\n",
       "<table border=\"1\" class=\"dataframe\">\n",
       "  <thead>\n",
       "    <tr style=\"text-align: right;\">\n",
       "      <th></th>\n",
       "      <th>fec_off</th>\n",
       "      <th>fec_partial</th>\n",
       "    </tr>\n",
       "  </thead>\n",
       "  <tbody>\n",
       "    <tr>\n",
       "      <th>0</th>\n",
       "      <td>0.0</td>\n",
       "      <td>1.0</td>\n",
       "    </tr>\n",
       "    <tr>\n",
       "      <th>1</th>\n",
       "      <td>0.0</td>\n",
       "      <td>1.0</td>\n",
       "    </tr>\n",
       "    <tr>\n",
       "      <th>2</th>\n",
       "      <td>0.0</td>\n",
       "      <td>1.0</td>\n",
       "    </tr>\n",
       "    <tr>\n",
       "      <th>3</th>\n",
       "      <td>0.0</td>\n",
       "      <td>1.0</td>\n",
       "    </tr>\n",
       "    <tr>\n",
       "      <th>4</th>\n",
       "      <td>0.0</td>\n",
       "      <td>1.0</td>\n",
       "    </tr>\n",
       "    <tr>\n",
       "      <th>...</th>\n",
       "      <td>...</td>\n",
       "      <td>...</td>\n",
       "    </tr>\n",
       "    <tr>\n",
       "      <th>406532</th>\n",
       "      <td>0.0</td>\n",
       "      <td>1.0</td>\n",
       "    </tr>\n",
       "    <tr>\n",
       "      <th>406533</th>\n",
       "      <td>0.0</td>\n",
       "      <td>1.0</td>\n",
       "    </tr>\n",
       "    <tr>\n",
       "      <th>406534</th>\n",
       "      <td>0.0</td>\n",
       "      <td>1.0</td>\n",
       "    </tr>\n",
       "    <tr>\n",
       "      <th>406535</th>\n",
       "      <td>0.0</td>\n",
       "      <td>1.0</td>\n",
       "    </tr>\n",
       "    <tr>\n",
       "      <th>406536</th>\n",
       "      <td>0.0</td>\n",
       "      <td>1.0</td>\n",
       "    </tr>\n",
       "  </tbody>\n",
       "</table>\n",
       "<p>406537 rows × 2 columns</p>\n",
       "</div>"
      ],
      "text/plain": [
       "        fec_off  fec_partial\n",
       "0           0.0          1.0\n",
       "1           0.0          1.0\n",
       "2           0.0          1.0\n",
       "3           0.0          1.0\n",
       "4           0.0          1.0\n",
       "...         ...          ...\n",
       "406532      0.0          1.0\n",
       "406533      0.0          1.0\n",
       "406534      0.0          1.0\n",
       "406535      0.0          1.0\n",
       "406536      0.0          1.0\n",
       "\n",
       "[406537 rows x 2 columns]"
      ]
     },
     "execution_count": 44,
     "metadata": {},
     "output_type": "execute_result"
    }
   ],
   "source": [
    "fec_state_encoder = OneHotEncoder(handle_unknown='ignore', sparse=False)\n",
    "transformed = fec_state_encoder.fit_transform(stream_quality_train['auto_fec_state'].to_numpy().reshape(-1, 1))\n",
    "fec_state_df = pd.DataFrame(transformed, columns=[f'fec_{category}' for category in fec_state_encoder.categories_[0]])\n",
    "fec_state_df"
   ]
  },
  {
   "cell_type": "code",
   "execution_count": 46,
   "metadata": {},
   "outputs": [],
   "source": [
    "y_true = stream_quality_train[['stream_quality']]\n",
    "stream_quality_train = stream_quality_train[['fps_mean', 'fps_std', 'fps_lags', 'rtt_mean', 'rtt_std', 'dropped_frames_mean', 'dropped_frames_std', 'dropped_frames_max', 'auto_fec_mean']]\n",
    "# stream_quality_train = pd.concat([stream_quality_train, fec_state_df, bitrate_state_df], axis=1, ignore_index=True)"
   ]
  },
  {
   "cell_type": "code",
   "execution_count": 47,
   "metadata": {},
   "outputs": [
    {
     "name": "stderr",
     "output_type": "stream",
     "text": [
      "/var/folders/_0/jg31z24j4s78_r7b93bhvd400000gn/T/ipykernel_16033/591852642.py:2: SettingWithCopyWarning: \n",
      "A value is trying to be set on a copy of a slice from a DataFrame\n",
      "\n",
      "See the caveats in the documentation: https://pandas.pydata.org/pandas-docs/stable/user_guide/indexing.html#returning-a-view-versus-a-copy\n",
      "  stream_quality_train.drop(['index'], axis=1, inplace=True, errors='ignore')\n"
     ]
    }
   ],
   "source": [
    "stream_quality_train.reset_index(inplace=True)\n",
    "stream_quality_train.drop(['index'], axis=1, inplace=True, errors='ignore')\n",
    "fec_state_df.reset_index(inplace=True)\n",
    "fec_state_df.drop(['index'], axis=1, inplace=True, errors='ignore')\n",
    "bitrate_state_df.reset_index(inplace=True)\n",
    "bitrate_state_df.drop(['index'], axis=1, inplace=True, errors='ignore')"
   ]
  },
  {
   "cell_type": "code",
   "execution_count": 48,
   "metadata": {},
   "outputs": [],
   "source": [
    "stream_quality_train = pd.concat([stream_quality_train, \n",
    "                                    fec_state_df, \n",
    "                                    bitrate_state_df], axis=1)"
   ]
  },
  {
   "cell_type": "code",
   "execution_count": 49,
   "metadata": {},
   "outputs": [
    {
     "data": {
      "text/html": [
       "<div>\n",
       "<style scoped>\n",
       "    .dataframe tbody tr th:only-of-type {\n",
       "        vertical-align: middle;\n",
       "    }\n",
       "\n",
       "    .dataframe tbody tr th {\n",
       "        vertical-align: top;\n",
       "    }\n",
       "\n",
       "    .dataframe thead th {\n",
       "        text-align: right;\n",
       "    }\n",
       "</style>\n",
       "<table border=\"1\" class=\"dataframe\">\n",
       "  <thead>\n",
       "    <tr style=\"text-align: right;\">\n",
       "      <th></th>\n",
       "      <th>fps_mean</th>\n",
       "      <th>fps_std</th>\n",
       "      <th>fps_lags</th>\n",
       "      <th>rtt_mean</th>\n",
       "      <th>rtt_std</th>\n",
       "      <th>dropped_frames_mean</th>\n",
       "      <th>dropped_frames_std</th>\n",
       "      <th>dropped_frames_max</th>\n",
       "      <th>auto_fec_mean</th>\n",
       "      <th>fec_off</th>\n",
       "      <th>fec_partial</th>\n",
       "      <th>bitrate_full</th>\n",
       "      <th>bitrate_off</th>\n",
       "      <th>bitrate_partial</th>\n",
       "    </tr>\n",
       "  </thead>\n",
       "  <tbody>\n",
       "    <tr>\n",
       "      <th>0</th>\n",
       "      <td>24.4</td>\n",
       "      <td>0.516398</td>\n",
       "      <td>0</td>\n",
       "      <td>91.1</td>\n",
       "      <td>6.723921</td>\n",
       "      <td>0.0</td>\n",
       "      <td>0.0</td>\n",
       "      <td>0.0</td>\n",
       "      <td>50.0</td>\n",
       "      <td>0.0</td>\n",
       "      <td>1.0</td>\n",
       "      <td>0.0</td>\n",
       "      <td>1.0</td>\n",
       "      <td>0.0</td>\n",
       "    </tr>\n",
       "    <tr>\n",
       "      <th>1</th>\n",
       "      <td>28.6</td>\n",
       "      <td>2.065591</td>\n",
       "      <td>0</td>\n",
       "      <td>99.7</td>\n",
       "      <td>15.923777</td>\n",
       "      <td>0.0</td>\n",
       "      <td>0.0</td>\n",
       "      <td>0.0</td>\n",
       "      <td>50.0</td>\n",
       "      <td>0.0</td>\n",
       "      <td>1.0</td>\n",
       "      <td>0.0</td>\n",
       "      <td>1.0</td>\n",
       "      <td>0.0</td>\n",
       "    </tr>\n",
       "    <tr>\n",
       "      <th>2</th>\n",
       "      <td>30.0</td>\n",
       "      <td>0.000000</td>\n",
       "      <td>0</td>\n",
       "      <td>98.1</td>\n",
       "      <td>11.798776</td>\n",
       "      <td>0.0</td>\n",
       "      <td>0.0</td>\n",
       "      <td>0.0</td>\n",
       "      <td>50.0</td>\n",
       "      <td>0.0</td>\n",
       "      <td>1.0</td>\n",
       "      <td>0.0</td>\n",
       "      <td>1.0</td>\n",
       "      <td>0.0</td>\n",
       "    </tr>\n",
       "    <tr>\n",
       "      <th>3</th>\n",
       "      <td>30.3</td>\n",
       "      <td>0.948683</td>\n",
       "      <td>0</td>\n",
       "      <td>99.4</td>\n",
       "      <td>13.014522</td>\n",
       "      <td>0.0</td>\n",
       "      <td>0.0</td>\n",
       "      <td>0.0</td>\n",
       "      <td>50.0</td>\n",
       "      <td>0.0</td>\n",
       "      <td>1.0</td>\n",
       "      <td>0.0</td>\n",
       "      <td>1.0</td>\n",
       "      <td>0.0</td>\n",
       "    </tr>\n",
       "    <tr>\n",
       "      <th>4</th>\n",
       "      <td>29.9</td>\n",
       "      <td>0.316228</td>\n",
       "      <td>0</td>\n",
       "      <td>123.2</td>\n",
       "      <td>62.476307</td>\n",
       "      <td>0.0</td>\n",
       "      <td>0.0</td>\n",
       "      <td>0.0</td>\n",
       "      <td>50.0</td>\n",
       "      <td>0.0</td>\n",
       "      <td>1.0</td>\n",
       "      <td>0.0</td>\n",
       "      <td>1.0</td>\n",
       "      <td>0.0</td>\n",
       "    </tr>\n",
       "    <tr>\n",
       "      <th>...</th>\n",
       "      <td>...</td>\n",
       "      <td>...</td>\n",
       "      <td>...</td>\n",
       "      <td>...</td>\n",
       "      <td>...</td>\n",
       "      <td>...</td>\n",
       "      <td>...</td>\n",
       "      <td>...</td>\n",
       "      <td>...</td>\n",
       "      <td>...</td>\n",
       "      <td>...</td>\n",
       "      <td>...</td>\n",
       "      <td>...</td>\n",
       "      <td>...</td>\n",
       "    </tr>\n",
       "    <tr>\n",
       "      <th>406532</th>\n",
       "      <td>40.0</td>\n",
       "      <td>0.000000</td>\n",
       "      <td>0</td>\n",
       "      <td>0.0</td>\n",
       "      <td>0.000000</td>\n",
       "      <td>0.0</td>\n",
       "      <td>0.0</td>\n",
       "      <td>0.0</td>\n",
       "      <td>50.0</td>\n",
       "      <td>0.0</td>\n",
       "      <td>1.0</td>\n",
       "      <td>1.0</td>\n",
       "      <td>0.0</td>\n",
       "      <td>0.0</td>\n",
       "    </tr>\n",
       "    <tr>\n",
       "      <th>406533</th>\n",
       "      <td>40.0</td>\n",
       "      <td>0.000000</td>\n",
       "      <td>0</td>\n",
       "      <td>0.0</td>\n",
       "      <td>0.000000</td>\n",
       "      <td>0.0</td>\n",
       "      <td>0.0</td>\n",
       "      <td>0.0</td>\n",
       "      <td>50.0</td>\n",
       "      <td>0.0</td>\n",
       "      <td>1.0</td>\n",
       "      <td>1.0</td>\n",
       "      <td>0.0</td>\n",
       "      <td>0.0</td>\n",
       "    </tr>\n",
       "    <tr>\n",
       "      <th>406534</th>\n",
       "      <td>40.0</td>\n",
       "      <td>0.000000</td>\n",
       "      <td>0</td>\n",
       "      <td>0.0</td>\n",
       "      <td>0.000000</td>\n",
       "      <td>0.0</td>\n",
       "      <td>0.0</td>\n",
       "      <td>0.0</td>\n",
       "      <td>50.0</td>\n",
       "      <td>0.0</td>\n",
       "      <td>1.0</td>\n",
       "      <td>1.0</td>\n",
       "      <td>0.0</td>\n",
       "      <td>0.0</td>\n",
       "    </tr>\n",
       "    <tr>\n",
       "      <th>406535</th>\n",
       "      <td>40.0</td>\n",
       "      <td>0.000000</td>\n",
       "      <td>0</td>\n",
       "      <td>0.0</td>\n",
       "      <td>0.000000</td>\n",
       "      <td>0.0</td>\n",
       "      <td>0.0</td>\n",
       "      <td>0.0</td>\n",
       "      <td>50.0</td>\n",
       "      <td>0.0</td>\n",
       "      <td>1.0</td>\n",
       "      <td>1.0</td>\n",
       "      <td>0.0</td>\n",
       "      <td>0.0</td>\n",
       "    </tr>\n",
       "    <tr>\n",
       "      <th>406536</th>\n",
       "      <td>40.0</td>\n",
       "      <td>0.000000</td>\n",
       "      <td>0</td>\n",
       "      <td>0.0</td>\n",
       "      <td>0.000000</td>\n",
       "      <td>0.0</td>\n",
       "      <td>0.0</td>\n",
       "      <td>0.0</td>\n",
       "      <td>50.0</td>\n",
       "      <td>0.0</td>\n",
       "      <td>1.0</td>\n",
       "      <td>1.0</td>\n",
       "      <td>0.0</td>\n",
       "      <td>0.0</td>\n",
       "    </tr>\n",
       "  </tbody>\n",
       "</table>\n",
       "<p>406537 rows × 14 columns</p>\n",
       "</div>"
      ],
      "text/plain": [
       "        fps_mean   fps_std  fps_lags  rtt_mean    rtt_std  \\\n",
       "0           24.4  0.516398         0      91.1   6.723921   \n",
       "1           28.6  2.065591         0      99.7  15.923777   \n",
       "2           30.0  0.000000         0      98.1  11.798776   \n",
       "3           30.3  0.948683         0      99.4  13.014522   \n",
       "4           29.9  0.316228         0     123.2  62.476307   \n",
       "...          ...       ...       ...       ...        ...   \n",
       "406532      40.0  0.000000         0       0.0   0.000000   \n",
       "406533      40.0  0.000000         0       0.0   0.000000   \n",
       "406534      40.0  0.000000         0       0.0   0.000000   \n",
       "406535      40.0  0.000000         0       0.0   0.000000   \n",
       "406536      40.0  0.000000         0       0.0   0.000000   \n",
       "\n",
       "        dropped_frames_mean  dropped_frames_std  dropped_frames_max  \\\n",
       "0                       0.0                 0.0                 0.0   \n",
       "1                       0.0                 0.0                 0.0   \n",
       "2                       0.0                 0.0                 0.0   \n",
       "3                       0.0                 0.0                 0.0   \n",
       "4                       0.0                 0.0                 0.0   \n",
       "...                     ...                 ...                 ...   \n",
       "406532                  0.0                 0.0                 0.0   \n",
       "406533                  0.0                 0.0                 0.0   \n",
       "406534                  0.0                 0.0                 0.0   \n",
       "406535                  0.0                 0.0                 0.0   \n",
       "406536                  0.0                 0.0                 0.0   \n",
       "\n",
       "        auto_fec_mean  fec_off  fec_partial  bitrate_full  bitrate_off  \\\n",
       "0                50.0      0.0          1.0           0.0          1.0   \n",
       "1                50.0      0.0          1.0           0.0          1.0   \n",
       "2                50.0      0.0          1.0           0.0          1.0   \n",
       "3                50.0      0.0          1.0           0.0          1.0   \n",
       "4                50.0      0.0          1.0           0.0          1.0   \n",
       "...               ...      ...          ...           ...          ...   \n",
       "406532           50.0      0.0          1.0           1.0          0.0   \n",
       "406533           50.0      0.0          1.0           1.0          0.0   \n",
       "406534           50.0      0.0          1.0           1.0          0.0   \n",
       "406535           50.0      0.0          1.0           1.0          0.0   \n",
       "406536           50.0      0.0          1.0           1.0          0.0   \n",
       "\n",
       "        bitrate_partial  \n",
       "0                   0.0  \n",
       "1                   0.0  \n",
       "2                   0.0  \n",
       "3                   0.0  \n",
       "4                   0.0  \n",
       "...                 ...  \n",
       "406532              0.0  \n",
       "406533              0.0  \n",
       "406534              0.0  \n",
       "406535              0.0  \n",
       "406536              0.0  \n",
       "\n",
       "[406537 rows x 14 columns]"
      ]
     },
     "execution_count": 49,
     "metadata": {},
     "output_type": "execute_result"
    }
   ],
   "source": [
    "stream_quality_train"
   ]
  },
  {
   "cell_type": "markdown",
   "metadata": {},
   "source": [
    "## Feature importance"
   ]
  },
  {
   "cell_type": "code",
   "execution_count": 57,
   "metadata": {},
   "outputs": [
    {
     "name": "stdout",
     "output_type": "stream",
     "text": [
      "Feature 0: 13531.191823\n",
      "Feature 1: 18820.279826\n",
      "Feature 2: 110354.969776\n",
      "Feature 3: 3630.958985\n",
      "Feature 4: 5332.853372\n",
      "Feature 5: 6934.340965\n",
      "Feature 6: 1237.846936\n",
      "Feature 7: 7353.127960\n",
      "Feature 8: 400.377869\n",
      "Feature 9: 1620.573042\n",
      "Feature 10: 1620.573042\n",
      "Feature 11: 86.602618\n",
      "Feature 12: 102.274850\n",
      "Feature 13: 103.343364\n"
     ]
    },
    {
     "name": "stderr",
     "output_type": "stream",
     "text": [
      "/opt/homebrew/Caskroom/miniforge/base/envs/ds/lib/python3.10/site-packages/sklearn/utils/validation.py:1111: DataConversionWarning: A column-vector y was passed when a 1d array was expected. Please change the shape of y to (n_samples, ), for example using ravel().\n",
      "  y = column_or_1d(y, warn=True)\n"
     ]
    },
    {
     "data": {
      "image/png": "[encoded data removed]",
      "text/plain": [
       "<Figure size 640x480 with 1 Axes>"
      ]
     },
     "metadata": {},
     "output_type": "display_data"
    }
   ],
   "source": [
    "fs = select_features(stream_quality_train, y_true)\n",
    "\n",
    "for i in range(len(fs.scores_)):\n",
    "\tprint('Feature %d: %f' % (i, fs.scores_[i]))\n",
    "# plot the scores\n",
    "plt.title('Classification task')\n",
    "plt.xlabel('Feature number')\n",
    "plt.ylabel(\"Pearson's correlation\")\n",
    "plt.bar([i for i in range(len(fs.scores_))], fs.scores_)\n",
    "plt.show()"
   ]
  },
  {
   "cell_type": "markdown",
   "metadata": {},
   "source": [
    "## Imbalance of target"
   ]
  },
  {
   "cell_type": "code",
   "execution_count": 46,
   "metadata": {},
   "outputs": [
    {
     "data": {
      "text/plain": [
       "0    378738\n",
       "1     27834\n",
       "Name: stream_quality, dtype: int64"
      ]
     },
     "execution_count": 46,
     "metadata": {},
     "output_type": "execute_result"
    }
   ],
   "source": [
    "stream_quality_train['stream_quality'].value_counts()"
   ]
  }
 ],
 "metadata": {
  "kernelspec": {
   "display_name": "ds",
   "language": "python",
   "name": "ds"
  },
  "language_info": {
   "codemirror_mode": {
    "name": "ipython",
    "version": 3
   },
   "file_extension": ".py",
   "mimetype": "text/x-python",
   "name": "python",
   "nbconvert_exporter": "python",
   "pygments_lexer": "ipython3",
   "version": "3.10.5"
  },
  "orig_nbformat": 4,
  "vscode": {
   "interpreter": {
    "hash": "5fa8e7a0e7c7188de72acea4ae1bc222d1770499c4c3d36ce32843ef46b20053"
   }
  }
 },
 "nbformat": 4,
 "nbformat_minor": 2
}
